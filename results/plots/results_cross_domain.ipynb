{
 "cells": [
  {
   "cell_type": "code",
   "execution_count": 1,
   "metadata": {},
   "outputs": [],
   "source": [
    "import pandas as pd\n",
    "import matplotlib.pyplot as plt\n",
    "import seaborn as sns\n",
    "import numpy as np\n",
    "\n",
    "\n",
    "xgboost = pd.read_csv(\"xgboost.csv\")\n",
    "bloomz = pd.read_csv(\"bloomz.csv\")\n",
    "roberta = pd.read_csv(\"roberta.csv\")\n",
    "\n",
    "# print(xgboost.head())\n",
    "# print(bloomz.head())\n",
    "# print(roberta.head())"
   ]
  },
  {
   "cell_type": "code",
   "execution_count": 2,
   "metadata": {},
   "outputs": [
    {
     "data": {
      "text/html": [
       "<div>\n",
       "<style scoped>\n",
       "    .dataframe tbody tr th:only-of-type {\n",
       "        vertical-align: middle;\n",
       "    }\n",
       "\n",
       "    .dataframe tbody tr th {\n",
       "        vertical-align: top;\n",
       "    }\n",
       "\n",
       "    .dataframe thead th {\n",
       "        text-align: right;\n",
       "    }\n",
       "</style>\n",
       "<table border=\"1\" class=\"dataframe\">\n",
       "  <thead>\n",
       "    <tr style=\"text-align: right;\">\n",
       "      <th></th>\n",
       "      <th>0</th>\n",
       "      <th>1</th>\n",
       "      <th>2</th>\n",
       "      <th>3</th>\n",
       "      <th>4</th>\n",
       "      <th>5</th>\n",
       "      <th>6</th>\n",
       "      <th>7</th>\n",
       "      <th>8</th>\n",
       "      <th>9</th>\n",
       "      <th>...</th>\n",
       "      <th>22</th>\n",
       "      <th>23</th>\n",
       "      <th>24</th>\n",
       "      <th>25</th>\n",
       "      <th>26</th>\n",
       "      <th>27</th>\n",
       "      <th>28</th>\n",
       "      <th>29</th>\n",
       "      <th>30</th>\n",
       "      <th>31</th>\n",
       "    </tr>\n",
       "  </thead>\n",
       "  <tbody>\n",
       "    <tr>\n",
       "      <th>index</th>\n",
       "      <td>index</td>\n",
       "      <td>Training dataset/Evaluation dataset</td>\n",
       "      <td>Abstract ChatGPT</td>\n",
       "      <td>Abstract ChatGPT</td>\n",
       "      <td>Abstract ChatGPT</td>\n",
       "      <td>Abstract Bloomz</td>\n",
       "      <td>Abstract Bloomz</td>\n",
       "      <td>Abstract Bloomz</td>\n",
       "      <td>Abstract Davinci</td>\n",
       "      <td>Abstract Davinci</td>\n",
       "      <td>...</td>\n",
       "      <td>Wiki ChatGPT</td>\n",
       "      <td>Wiki Bloomz</td>\n",
       "      <td>Wiki Bloomz</td>\n",
       "      <td>Wiki Bloomz</td>\n",
       "      <td>Wiki Davinci</td>\n",
       "      <td>Wiki Davinci</td>\n",
       "      <td>Wiki Davinci</td>\n",
       "      <td>Wiki Cohere</td>\n",
       "      <td>Wiki Cohere</td>\n",
       "      <td>Wiki Cohere</td>\n",
       "    </tr>\n",
       "    <tr>\n",
       "      <th>0</th>\n",
       "      <td>0</td>\n",
       "      <td>NaN</td>\n",
       "      <td>F1-Score</td>\n",
       "      <td>Precision</td>\n",
       "      <td>Recall</td>\n",
       "      <td>F1-Score</td>\n",
       "      <td>Precision</td>\n",
       "      <td>Recall</td>\n",
       "      <td>F1-Score</td>\n",
       "      <td>Precision</td>\n",
       "      <td>...</td>\n",
       "      <td>Recall</td>\n",
       "      <td>F1-Score</td>\n",
       "      <td>Precision</td>\n",
       "      <td>Recall</td>\n",
       "      <td>F1-Score</td>\n",
       "      <td>Precision</td>\n",
       "      <td>Recall</td>\n",
       "      <td>F1-Score</td>\n",
       "      <td>Precision</td>\n",
       "      <td>Recall</td>\n",
       "    </tr>\n",
       "    <tr>\n",
       "      <th>1</th>\n",
       "      <td>1</td>\n",
       "      <td>Pretrained Roberta</td>\n",
       "      <td>1.000</td>\n",
       "      <td>1.000</td>\n",
       "      <td>1.000</td>\n",
       "      <td>0.340</td>\n",
       "      <td>1.000</td>\n",
       "      <td>0.205</td>\n",
       "      <td>0.599</td>\n",
       "      <td>1.000</td>\n",
       "      <td>...</td>\n",
       "      <td>NaN</td>\n",
       "      <td>NaN</td>\n",
       "      <td>NaN</td>\n",
       "      <td>NaN</td>\n",
       "      <td>NaN</td>\n",
       "      <td>NaN</td>\n",
       "      <td>NaN</td>\n",
       "      <td>NaN</td>\n",
       "      <td>NaN</td>\n",
       "      <td>NaN</td>\n",
       "    </tr>\n",
       "    <tr>\n",
       "      <th>2</th>\n",
       "      <td>2</td>\n",
       "      <td>Abstract - ChatGPT (without preprocessing)</td>\n",
       "      <td>0.643</td>\n",
       "      <td>0.750</td>\n",
       "      <td>0.550</td>\n",
       "      <td>0.582</td>\n",
       "      <td>0.688</td>\n",
       "      <td>0.505</td>\n",
       "      <td>0.593</td>\n",
       "      <td>0.710</td>\n",
       "      <td>...</td>\n",
       "      <td>NaN</td>\n",
       "      <td>NaN</td>\n",
       "      <td>NaN</td>\n",
       "      <td>NaN</td>\n",
       "      <td>NaN</td>\n",
       "      <td>NaN</td>\n",
       "      <td>NaN</td>\n",
       "      <td>NaN</td>\n",
       "      <td>NaN</td>\n",
       "      <td>NaN</td>\n",
       "    </tr>\n",
       "    <tr>\n",
       "      <th>3</th>\n",
       "      <td>3</td>\n",
       "      <td>Abstract - ChatGPT</td>\n",
       "      <td>0.997</td>\n",
       "      <td>0.995</td>\n",
       "      <td>1.000</td>\n",
       "      <td>0.425</td>\n",
       "      <td>0.981</td>\n",
       "      <td>0.271</td>\n",
       "      <td>0.632</td>\n",
       "      <td>0.996</td>\n",
       "      <td>...</td>\n",
       "      <td>0.970</td>\n",
       "      <td>0.130</td>\n",
       "      <td>0.954</td>\n",
       "      <td>0.070</td>\n",
       "      <td>NaN</td>\n",
       "      <td>NaN</td>\n",
       "      <td>NaN</td>\n",
       "      <td>0.778</td>\n",
       "      <td>0.990</td>\n",
       "      <td>0.778</td>\n",
       "    </tr>\n",
       "    <tr>\n",
       "      <th>4</th>\n",
       "      <td>4</td>\n",
       "      <td>Abstract - Bloomz</td>\n",
       "      <td>0.995</td>\n",
       "      <td>0.990</td>\n",
       "      <td>1.000</td>\n",
       "      <td>0.992</td>\n",
       "      <td>0.990</td>\n",
       "      <td>0.995</td>\n",
       "      <td>0.926</td>\n",
       "      <td>0.994</td>\n",
       "      <td>...</td>\n",
       "      <td>0.996</td>\n",
       "      <td>0.686</td>\n",
       "      <td>0.534</td>\n",
       "      <td>0.961</td>\n",
       "      <td>NaN</td>\n",
       "      <td>NaN</td>\n",
       "      <td>NaN</td>\n",
       "      <td>0.667</td>\n",
       "      <td>0.513</td>\n",
       "      <td>0.951</td>\n",
       "    </tr>\n",
       "    <tr>\n",
       "      <th>5</th>\n",
       "      <td>5</td>\n",
       "      <td>Abstract from ML papers - Llama3</td>\n",
       "      <td>NaN</td>\n",
       "      <td>NaN</td>\n",
       "      <td>NaN</td>\n",
       "      <td>NaN</td>\n",
       "      <td>NaN</td>\n",
       "      <td>NaN</td>\n",
       "      <td>NaN</td>\n",
       "      <td>NaN</td>\n",
       "      <td>...</td>\n",
       "      <td>NaN</td>\n",
       "      <td>NaN</td>\n",
       "      <td>NaN</td>\n",
       "      <td>NaN</td>\n",
       "      <td>NaN</td>\n",
       "      <td>NaN</td>\n",
       "      <td>NaN</td>\n",
       "      <td>NaN</td>\n",
       "      <td>NaN</td>\n",
       "      <td>NaN</td>\n",
       "    </tr>\n",
       "    <tr>\n",
       "      <th>6</th>\n",
       "      <td>6</td>\n",
       "      <td>Abstract and Wiki - Bloomz</td>\n",
       "      <td>NaN</td>\n",
       "      <td>NaN</td>\n",
       "      <td>NaN</td>\n",
       "      <td>NaN</td>\n",
       "      <td>NaN</td>\n",
       "      <td>NaN</td>\n",
       "      <td>NaN</td>\n",
       "      <td>NaN</td>\n",
       "      <td>...</td>\n",
       "      <td>NaN</td>\n",
       "      <td>NaN</td>\n",
       "      <td>NaN</td>\n",
       "      <td>NaN</td>\n",
       "      <td>NaN</td>\n",
       "      <td>NaN</td>\n",
       "      <td>NaN</td>\n",
       "      <td>NaN</td>\n",
       "      <td>NaN</td>\n",
       "      <td>NaN</td>\n",
       "    </tr>\n",
       "    <tr>\n",
       "      <th>7</th>\n",
       "      <td>7</td>\n",
       "      <td>Abstract, WiKi and ML - Bloomz</td>\n",
       "      <td>NaN</td>\n",
       "      <td>NaN</td>\n",
       "      <td>NaN</td>\n",
       "      <td>NaN</td>\n",
       "      <td>NaN</td>\n",
       "      <td>NaN</td>\n",
       "      <td>NaN</td>\n",
       "      <td>NaN</td>\n",
       "      <td>...</td>\n",
       "      <td>NaN</td>\n",
       "      <td>NaN</td>\n",
       "      <td>NaN</td>\n",
       "      <td>NaN</td>\n",
       "      <td>NaN</td>\n",
       "      <td>NaN</td>\n",
       "      <td>NaN</td>\n",
       "      <td>NaN</td>\n",
       "      <td>NaN</td>\n",
       "      <td>NaN</td>\n",
       "    </tr>\n",
       "  </tbody>\n",
       "</table>\n",
       "<p>9 rows × 32 columns</p>\n",
       "</div>"
      ],
      "text/plain": [
       "          0                                           1                 2   \\\n",
       "index  index         Training dataset/Evaluation dataset  Abstract ChatGPT   \n",
       "0          0                                         NaN          F1-Score   \n",
       "1          1                          Pretrained Roberta             1.000   \n",
       "2          2  Abstract - ChatGPT (without preprocessing)             0.643   \n",
       "3          3                          Abstract - ChatGPT             0.997   \n",
       "4          4                           Abstract - Bloomz             0.995   \n",
       "5          5            Abstract from ML papers - Llama3               NaN   \n",
       "6          6                  Abstract and Wiki - Bloomz               NaN   \n",
       "7          7              Abstract, WiKi and ML - Bloomz               NaN   \n",
       "\n",
       "                     3                 4                5                6   \\\n",
       "index  Abstract ChatGPT  Abstract ChatGPT  Abstract Bloomz  Abstract Bloomz   \n",
       "0             Precision            Recall         F1-Score        Precision   \n",
       "1                 1.000             1.000            0.340            1.000   \n",
       "2                 0.750             0.550            0.582            0.688   \n",
       "3                 0.995             1.000            0.425            0.981   \n",
       "4                 0.990             1.000            0.992            0.990   \n",
       "5                   NaN               NaN              NaN              NaN   \n",
       "6                   NaN               NaN              NaN              NaN   \n",
       "7                   NaN               NaN              NaN              NaN   \n",
       "\n",
       "                    7                 8                 9   ...            22  \\\n",
       "index  Abstract Bloomz  Abstract Davinci  Abstract Davinci  ...  Wiki ChatGPT   \n",
       "0               Recall          F1-Score         Precision  ...        Recall   \n",
       "1                0.205             0.599             1.000  ...           NaN   \n",
       "2                0.505             0.593             0.710  ...           NaN   \n",
       "3                0.271             0.632             0.996  ...         0.970   \n",
       "4                0.995             0.926             0.994  ...         0.996   \n",
       "5                  NaN               NaN               NaN  ...           NaN   \n",
       "6                  NaN               NaN               NaN  ...           NaN   \n",
       "7                  NaN               NaN               NaN  ...           NaN   \n",
       "\n",
       "                23           24           25            26            27  \\\n",
       "index  Wiki Bloomz  Wiki Bloomz  Wiki Bloomz  Wiki Davinci  Wiki Davinci   \n",
       "0         F1-Score    Precision       Recall      F1-Score     Precision   \n",
       "1              NaN          NaN          NaN           NaN           NaN   \n",
       "2              NaN          NaN          NaN           NaN           NaN   \n",
       "3            0.130        0.954        0.070           NaN           NaN   \n",
       "4            0.686        0.534        0.961           NaN           NaN   \n",
       "5              NaN          NaN          NaN           NaN           NaN   \n",
       "6              NaN          NaN          NaN           NaN           NaN   \n",
       "7              NaN          NaN          NaN           NaN           NaN   \n",
       "\n",
       "                 28           29           30           31  \n",
       "index  Wiki Davinci  Wiki Cohere  Wiki Cohere  Wiki Cohere  \n",
       "0            Recall     F1-Score    Precision       Recall  \n",
       "1               NaN          NaN          NaN          NaN  \n",
       "2               NaN          NaN          NaN          NaN  \n",
       "3               NaN        0.778        0.990        0.778  \n",
       "4               NaN        0.667        0.513        0.951  \n",
       "5               NaN          NaN          NaN          NaN  \n",
       "6               NaN          NaN          NaN          NaN  \n",
       "7               NaN          NaN          NaN          NaN  \n",
       "\n",
       "[9 rows x 32 columns]"
      ]
     },
     "execution_count": 2,
     "metadata": {},
     "output_type": "execute_result"
    }
   ],
   "source": [
    "xgboost.columns = xgboost.columns.to_series().replace('Unnamed:\\s\\d+',np.nan,regex=True).ffill().values\n",
    "xgboost.reset_index().T.reset_index().T\n",
    "\n",
    "bloomz.columns = bloomz.columns.to_series().replace('Unnamed:\\s\\d+',np.nan,regex=True).ffill().values\n",
    "bloomz.reset_index().T.reset_index().T\n",
    "\n",
    "roberta.columns = roberta.columns.to_series().replace('Unnamed:\\s\\d+',np.nan,regex=True).ffill().values\n",
    "roberta.reset_index().T.reset_index().T\n"
   ]
  },
  {
   "cell_type": "code",
   "execution_count": 3,
   "metadata": {},
   "outputs": [
    {
     "data": {
      "text/html": [
       "<div>\n",
       "<style scoped>\n",
       "    .dataframe tbody tr th:only-of-type {\n",
       "        vertical-align: middle;\n",
       "    }\n",
       "\n",
       "    .dataframe tbody tr th {\n",
       "        vertical-align: top;\n",
       "    }\n",
       "\n",
       "    .dataframe thead th {\n",
       "        text-align: right;\n",
       "    }\n",
       "</style>\n",
       "<table border=\"1\" class=\"dataframe\">\n",
       "  <thead>\n",
       "    <tr style=\"text-align: right;\">\n",
       "      <th></th>\n",
       "      <th>Training dataset/Evaluation dataset</th>\n",
       "      <th>Abstract ChatGPT</th>\n",
       "      <th>Abstract ChatGPT</th>\n",
       "      <th>Abstract ChatGPT</th>\n",
       "      <th>Abstract Bloomz</th>\n",
       "      <th>Abstract Bloomz</th>\n",
       "      <th>Abstract Bloomz</th>\n",
       "      <th>Abstract Davinci</th>\n",
       "      <th>Abstract Davinci</th>\n",
       "      <th>Abstract Davinci</th>\n",
       "      <th>...</th>\n",
       "      <th>Wiki ChatGPT</th>\n",
       "      <th>Wiki Bloomz</th>\n",
       "      <th>Wiki Bloomz</th>\n",
       "      <th>Wiki Bloomz</th>\n",
       "      <th>Wiki Davinci</th>\n",
       "      <th>Wiki Davinci</th>\n",
       "      <th>Wiki Davinci</th>\n",
       "      <th>Wiki Cohere</th>\n",
       "      <th>Wiki Cohere</th>\n",
       "      <th>Wiki Cohere</th>\n",
       "    </tr>\n",
       "  </thead>\n",
       "  <tbody>\n",
       "    <tr>\n",
       "      <th>0</th>\n",
       "      <td>NaN</td>\n",
       "      <td>F1-Score</td>\n",
       "      <td>Precision</td>\n",
       "      <td>Recall</td>\n",
       "      <td>F1-Score</td>\n",
       "      <td>Precision</td>\n",
       "      <td>Recall</td>\n",
       "      <td>F1-Score</td>\n",
       "      <td>Precision</td>\n",
       "      <td>Recall</td>\n",
       "      <td>...</td>\n",
       "      <td>Recall</td>\n",
       "      <td>F1-Score</td>\n",
       "      <td>Precision</td>\n",
       "      <td>Recall</td>\n",
       "      <td>F1-Score</td>\n",
       "      <td>Precision</td>\n",
       "      <td>Recall</td>\n",
       "      <td>F1-Score</td>\n",
       "      <td>Precision</td>\n",
       "      <td>Recall</td>\n",
       "    </tr>\n",
       "    <tr>\n",
       "      <th>1</th>\n",
       "      <td>Pretrained Bloomz</td>\n",
       "      <td>1.000</td>\n",
       "      <td>1.000</td>\n",
       "      <td>1.000</td>\n",
       "      <td>0.143</td>\n",
       "      <td>1.000</td>\n",
       "      <td>0.077</td>\n",
       "      <td>0.446</td>\n",
       "      <td>1.000</td>\n",
       "      <td>0.287</td>\n",
       "      <td>...</td>\n",
       "      <td>NaN</td>\n",
       "      <td>NaN</td>\n",
       "      <td>NaN</td>\n",
       "      <td>NaN</td>\n",
       "      <td>NaN</td>\n",
       "      <td>NaN</td>\n",
       "      <td>NaN</td>\n",
       "      <td>NaN</td>\n",
       "      <td>NaN</td>\n",
       "      <td>NaN</td>\n",
       "    </tr>\n",
       "    <tr>\n",
       "      <th>2</th>\n",
       "      <td>Abstract - Bloomz (without preprocessing)</td>\n",
       "      <td>1.000</td>\n",
       "      <td>1.000</td>\n",
       "      <td>1.000</td>\n",
       "      <td>0.999</td>\n",
       "      <td>1.000</td>\n",
       "      <td>0.998</td>\n",
       "      <td>0.979</td>\n",
       "      <td>1.000</td>\n",
       "      <td>0.958</td>\n",
       "      <td>...</td>\n",
       "      <td>NaN</td>\n",
       "      <td>NaN</td>\n",
       "      <td>NaN</td>\n",
       "      <td>NaN</td>\n",
       "      <td>NaN</td>\n",
       "      <td>NaN</td>\n",
       "      <td>NaN</td>\n",
       "      <td>NaN</td>\n",
       "      <td>NaN</td>\n",
       "      <td>NaN</td>\n",
       "    </tr>\n",
       "    <tr>\n",
       "      <th>3</th>\n",
       "      <td>Abstract - ChatGPT</td>\n",
       "      <td>0.997</td>\n",
       "      <td>0.996</td>\n",
       "      <td>0.998</td>\n",
       "      <td>0.103</td>\n",
       "      <td>0.940</td>\n",
       "      <td>0.060</td>\n",
       "      <td>0.426</td>\n",
       "      <td>0.987</td>\n",
       "      <td>0.270</td>\n",
       "      <td>...</td>\n",
       "      <td>0.000</td>\n",
       "      <td>0.089</td>\n",
       "      <td>1.000</td>\n",
       "      <td>0.047</td>\n",
       "      <td>0.021</td>\n",
       "      <td>1.000</td>\n",
       "      <td>0.011</td>\n",
       "      <td>0.046</td>\n",
       "      <td>1.000</td>\n",
       "      <td>0.023</td>\n",
       "    </tr>\n",
       "    <tr>\n",
       "      <th>4</th>\n",
       "      <td>Abstract - Bloomz</td>\n",
       "      <td>0.925</td>\n",
       "      <td>1.000</td>\n",
       "      <td>0.861</td>\n",
       "      <td>0.994</td>\n",
       "      <td>1.000</td>\n",
       "      <td>0.990</td>\n",
       "      <td>0.690</td>\n",
       "      <td>0.996</td>\n",
       "      <td>0.530</td>\n",
       "      <td>...</td>\n",
       "      <td>0.870</td>\n",
       "      <td>0.146</td>\n",
       "      <td>0.690</td>\n",
       "      <td>0.081</td>\n",
       "      <td>0.074</td>\n",
       "      <td>0.441</td>\n",
       "      <td>0.040</td>\n",
       "      <td>0.052</td>\n",
       "      <td>0.333</td>\n",
       "      <td>0.028</td>\n",
       "    </tr>\n",
       "  </tbody>\n",
       "</table>\n",
       "<p>5 rows × 31 columns</p>\n",
       "</div>"
      ],
      "text/plain": [
       "         Training dataset/Evaluation dataset Abstract ChatGPT  \\\n",
       "0                                        NaN         F1-Score   \n",
       "1                          Pretrained Bloomz            1.000   \n",
       "2  Abstract - Bloomz (without preprocessing)            1.000   \n",
       "3                         Abstract - ChatGPT            0.997   \n",
       "4                          Abstract - Bloomz            0.925   \n",
       "\n",
       "  Abstract ChatGPT Abstract ChatGPT Abstract Bloomz Abstract Bloomz  \\\n",
       "0        Precision           Recall        F1-Score       Precision   \n",
       "1            1.000            1.000           0.143           1.000   \n",
       "2            1.000            1.000           0.999           1.000   \n",
       "3            0.996            0.998           0.103           0.940   \n",
       "4            1.000            0.861           0.994           1.000   \n",
       "\n",
       "  Abstract Bloomz Abstract Davinci Abstract Davinci Abstract Davinci  ...  \\\n",
       "0          Recall         F1-Score        Precision           Recall  ...   \n",
       "1           0.077            0.446            1.000            0.287  ...   \n",
       "2           0.998            0.979            1.000            0.958  ...   \n",
       "3           0.060            0.426            0.987            0.270  ...   \n",
       "4           0.990            0.690            0.996            0.530  ...   \n",
       "\n",
       "  Wiki ChatGPT Wiki Bloomz Wiki Bloomz Wiki Bloomz Wiki Davinci Wiki Davinci  \\\n",
       "0       Recall    F1-Score   Precision      Recall     F1-Score    Precision   \n",
       "1          NaN         NaN         NaN         NaN          NaN          NaN   \n",
       "2          NaN         NaN         NaN         NaN          NaN          NaN   \n",
       "3        0.000       0.089       1.000       0.047        0.021        1.000   \n",
       "4        0.870       0.146       0.690       0.081        0.074        0.441   \n",
       "\n",
       "  Wiki Davinci Wiki Cohere Wiki Cohere Wiki Cohere  \n",
       "0       Recall    F1-Score   Precision      Recall  \n",
       "1          NaN         NaN         NaN         NaN  \n",
       "2          NaN         NaN         NaN         NaN  \n",
       "3        0.011       0.046       1.000       0.023  \n",
       "4        0.040       0.052       0.333       0.028  \n",
       "\n",
       "[5 rows x 31 columns]"
      ]
     },
     "execution_count": 3,
     "metadata": {},
     "output_type": "execute_result"
    }
   ],
   "source": [
    "bloomz.head()"
   ]
  },
  {
   "cell_type": "code",
   "execution_count": 4,
   "metadata": {},
   "outputs": [],
   "source": [
    "xgboost.iloc[0, 0] = 'Metric'\n",
    "bloomz.iloc[0, 0] = 'Metric'\n",
    "roberta.iloc[0, 0] = 'Metric'"
   ]
  },
  {
   "cell_type": "code",
   "execution_count": 5,
   "metadata": {},
   "outputs": [
    {
     "data": {
      "text/html": [
       "<div>\n",
       "<style scoped>\n",
       "    .dataframe tbody tr th:only-of-type {\n",
       "        vertical-align: middle;\n",
       "    }\n",
       "\n",
       "    .dataframe tbody tr th {\n",
       "        vertical-align: top;\n",
       "    }\n",
       "\n",
       "    .dataframe thead th {\n",
       "        text-align: right;\n",
       "    }\n",
       "</style>\n",
       "<table border=\"1\" class=\"dataframe\">\n",
       "  <thead>\n",
       "    <tr style=\"text-align: right;\">\n",
       "      <th></th>\n",
       "      <th>Training dataset/Evaluation dataset</th>\n",
       "      <th>Abstract ChatGPT</th>\n",
       "      <th>Abstract ChatGPT</th>\n",
       "      <th>Abstract ChatGPT</th>\n",
       "      <th>Abstract Bloomz</th>\n",
       "      <th>Abstract Bloomz</th>\n",
       "      <th>Abstract Bloomz</th>\n",
       "      <th>Abstract Davinci</th>\n",
       "      <th>Abstract Davinci</th>\n",
       "      <th>Abstract Davinci</th>\n",
       "      <th>...</th>\n",
       "      <th>Wiki ChatGPT</th>\n",
       "      <th>Wiki Bloomz</th>\n",
       "      <th>Wiki Bloomz</th>\n",
       "      <th>Wiki Bloomz</th>\n",
       "      <th>Wiki Davinci</th>\n",
       "      <th>Wiki Davinci</th>\n",
       "      <th>Wiki Davinci</th>\n",
       "      <th>Wiki Cohere</th>\n",
       "      <th>Wiki Cohere</th>\n",
       "      <th>Wiki Cohere</th>\n",
       "    </tr>\n",
       "  </thead>\n",
       "  <tbody>\n",
       "    <tr>\n",
       "      <th>0</th>\n",
       "      <td>Metric</td>\n",
       "      <td>F1-Score</td>\n",
       "      <td>Precision</td>\n",
       "      <td>Recall</td>\n",
       "      <td>F1-Score</td>\n",
       "      <td>Precision</td>\n",
       "      <td>Recall</td>\n",
       "      <td>F1-Score</td>\n",
       "      <td>Precision</td>\n",
       "      <td>Recall</td>\n",
       "      <td>...</td>\n",
       "      <td>Recall</td>\n",
       "      <td>F1-Score</td>\n",
       "      <td>Precision</td>\n",
       "      <td>Recall</td>\n",
       "      <td>F1-Score</td>\n",
       "      <td>Precision</td>\n",
       "      <td>Recall</td>\n",
       "      <td>F1-Score</td>\n",
       "      <td>Precision</td>\n",
       "      <td>Recall</td>\n",
       "    </tr>\n",
       "    <tr>\n",
       "      <th>1</th>\n",
       "      <td>Pretrained Bloomz</td>\n",
       "      <td>1.000</td>\n",
       "      <td>1.000</td>\n",
       "      <td>1.000</td>\n",
       "      <td>0.143</td>\n",
       "      <td>1.000</td>\n",
       "      <td>0.077</td>\n",
       "      <td>0.446</td>\n",
       "      <td>1.000</td>\n",
       "      <td>0.287</td>\n",
       "      <td>...</td>\n",
       "      <td>NaN</td>\n",
       "      <td>NaN</td>\n",
       "      <td>NaN</td>\n",
       "      <td>NaN</td>\n",
       "      <td>NaN</td>\n",
       "      <td>NaN</td>\n",
       "      <td>NaN</td>\n",
       "      <td>NaN</td>\n",
       "      <td>NaN</td>\n",
       "      <td>NaN</td>\n",
       "    </tr>\n",
       "    <tr>\n",
       "      <th>2</th>\n",
       "      <td>Abstract - Bloomz (without preprocessing)</td>\n",
       "      <td>1.000</td>\n",
       "      <td>1.000</td>\n",
       "      <td>1.000</td>\n",
       "      <td>0.999</td>\n",
       "      <td>1.000</td>\n",
       "      <td>0.998</td>\n",
       "      <td>0.979</td>\n",
       "      <td>1.000</td>\n",
       "      <td>0.958</td>\n",
       "      <td>...</td>\n",
       "      <td>NaN</td>\n",
       "      <td>NaN</td>\n",
       "      <td>NaN</td>\n",
       "      <td>NaN</td>\n",
       "      <td>NaN</td>\n",
       "      <td>NaN</td>\n",
       "      <td>NaN</td>\n",
       "      <td>NaN</td>\n",
       "      <td>NaN</td>\n",
       "      <td>NaN</td>\n",
       "    </tr>\n",
       "    <tr>\n",
       "      <th>3</th>\n",
       "      <td>Abstract - ChatGPT</td>\n",
       "      <td>0.997</td>\n",
       "      <td>0.996</td>\n",
       "      <td>0.998</td>\n",
       "      <td>0.103</td>\n",
       "      <td>0.940</td>\n",
       "      <td>0.060</td>\n",
       "      <td>0.426</td>\n",
       "      <td>0.987</td>\n",
       "      <td>0.270</td>\n",
       "      <td>...</td>\n",
       "      <td>0.000</td>\n",
       "      <td>0.089</td>\n",
       "      <td>1.000</td>\n",
       "      <td>0.047</td>\n",
       "      <td>0.021</td>\n",
       "      <td>1.000</td>\n",
       "      <td>0.011</td>\n",
       "      <td>0.046</td>\n",
       "      <td>1.000</td>\n",
       "      <td>0.023</td>\n",
       "    </tr>\n",
       "    <tr>\n",
       "      <th>4</th>\n",
       "      <td>Abstract - Bloomz</td>\n",
       "      <td>0.925</td>\n",
       "      <td>1.000</td>\n",
       "      <td>0.861</td>\n",
       "      <td>0.994</td>\n",
       "      <td>1.000</td>\n",
       "      <td>0.990</td>\n",
       "      <td>0.690</td>\n",
       "      <td>0.996</td>\n",
       "      <td>0.530</td>\n",
       "      <td>...</td>\n",
       "      <td>0.870</td>\n",
       "      <td>0.146</td>\n",
       "      <td>0.690</td>\n",
       "      <td>0.081</td>\n",
       "      <td>0.074</td>\n",
       "      <td>0.441</td>\n",
       "      <td>0.040</td>\n",
       "      <td>0.052</td>\n",
       "      <td>0.333</td>\n",
       "      <td>0.028</td>\n",
       "    </tr>\n",
       "  </tbody>\n",
       "</table>\n",
       "<p>5 rows × 31 columns</p>\n",
       "</div>"
      ],
      "text/plain": [
       "         Training dataset/Evaluation dataset Abstract ChatGPT  \\\n",
       "0                                     Metric         F1-Score   \n",
       "1                          Pretrained Bloomz            1.000   \n",
       "2  Abstract - Bloomz (without preprocessing)            1.000   \n",
       "3                         Abstract - ChatGPT            0.997   \n",
       "4                          Abstract - Bloomz            0.925   \n",
       "\n",
       "  Abstract ChatGPT Abstract ChatGPT Abstract Bloomz Abstract Bloomz  \\\n",
       "0        Precision           Recall        F1-Score       Precision   \n",
       "1            1.000            1.000           0.143           1.000   \n",
       "2            1.000            1.000           0.999           1.000   \n",
       "3            0.996            0.998           0.103           0.940   \n",
       "4            1.000            0.861           0.994           1.000   \n",
       "\n",
       "  Abstract Bloomz Abstract Davinci Abstract Davinci Abstract Davinci  ...  \\\n",
       "0          Recall         F1-Score        Precision           Recall  ...   \n",
       "1           0.077            0.446            1.000            0.287  ...   \n",
       "2           0.998            0.979            1.000            0.958  ...   \n",
       "3           0.060            0.426            0.987            0.270  ...   \n",
       "4           0.990            0.690            0.996            0.530  ...   \n",
       "\n",
       "  Wiki ChatGPT Wiki Bloomz Wiki Bloomz Wiki Bloomz Wiki Davinci Wiki Davinci  \\\n",
       "0       Recall    F1-Score   Precision      Recall     F1-Score    Precision   \n",
       "1          NaN         NaN         NaN         NaN          NaN          NaN   \n",
       "2          NaN         NaN         NaN         NaN          NaN          NaN   \n",
       "3        0.000       0.089       1.000       0.047        0.021        1.000   \n",
       "4        0.870       0.146       0.690       0.081        0.074        0.441   \n",
       "\n",
       "  Wiki Davinci Wiki Cohere Wiki Cohere Wiki Cohere  \n",
       "0       Recall    F1-Score   Precision      Recall  \n",
       "1          NaN         NaN         NaN         NaN  \n",
       "2          NaN         NaN         NaN         NaN  \n",
       "3        0.011       0.046       1.000       0.023  \n",
       "4        0.040       0.052       0.333       0.028  \n",
       "\n",
       "[5 rows x 31 columns]"
      ]
     },
     "execution_count": 5,
     "metadata": {},
     "output_type": "execute_result"
    }
   ],
   "source": [
    "bloomz.head()"
   ]
  },
  {
   "cell_type": "code",
   "execution_count": 6,
   "metadata": {},
   "outputs": [],
   "source": [
    "# Append values in row 0 to column headers\n",
    "xgboost.columns = [f\"{col}_{xgboost.iloc[0, idx]}\" for idx, col in enumerate(xgboost.columns)]\n",
    "bloomz.columns = [f\"{col}_{bloomz.iloc[0, idx]}\" for idx, col in enumerate(bloomz.columns)]\n",
    "roberta.columns = [f\"{col}_{roberta.iloc[0, idx]}\" for idx, col in enumerate(roberta.columns)]"
   ]
  },
  {
   "cell_type": "code",
   "execution_count": 7,
   "metadata": {},
   "outputs": [],
   "source": [
    "xgboost = xgboost.iloc[1:]\n",
    "roberta = roberta.iloc[1:]\n",
    "bloomz = bloomz.iloc[1:]"
   ]
  },
  {
   "cell_type": "code",
   "execution_count": 8,
   "metadata": {},
   "outputs": [
    {
     "data": {
      "text/html": [
       "<div>\n",
       "<style scoped>\n",
       "    .dataframe tbody tr th:only-of-type {\n",
       "        vertical-align: middle;\n",
       "    }\n",
       "\n",
       "    .dataframe tbody tr th {\n",
       "        vertical-align: top;\n",
       "    }\n",
       "\n",
       "    .dataframe thead th {\n",
       "        text-align: right;\n",
       "    }\n",
       "</style>\n",
       "<table border=\"1\" class=\"dataframe\">\n",
       "  <thead>\n",
       "    <tr style=\"text-align: right;\">\n",
       "      <th></th>\n",
       "      <th>Training dataset/Evaluation dataset_Metric</th>\n",
       "      <th>Model</th>\n",
       "      <th>score</th>\n",
       "    </tr>\n",
       "  </thead>\n",
       "  <tbody>\n",
       "    <tr>\n",
       "      <th>0</th>\n",
       "      <td>Abstract - ChatGPT (without preprocessing)</td>\n",
       "      <td>Abstract ChatGPT_Precision</td>\n",
       "      <td>0.887</td>\n",
       "    </tr>\n",
       "    <tr>\n",
       "      <th>1</th>\n",
       "      <td>Abstract - Bloomz (without preprocessing)</td>\n",
       "      <td>Abstract ChatGPT_Precision</td>\n",
       "      <td>0.479</td>\n",
       "    </tr>\n",
       "    <tr>\n",
       "      <th>2</th>\n",
       "      <td>Abstract - ChatGPT</td>\n",
       "      <td>Abstract ChatGPT_Precision</td>\n",
       "      <td>0.882</td>\n",
       "    </tr>\n",
       "    <tr>\n",
       "      <th>3</th>\n",
       "      <td>Abstract - Bloomz</td>\n",
       "      <td>Abstract ChatGPT_Precision</td>\n",
       "      <td>0.219</td>\n",
       "    </tr>\n",
       "    <tr>\n",
       "      <th>4</th>\n",
       "      <td>WiKi - ChatGPT</td>\n",
       "      <td>Abstract ChatGPT_Precision</td>\n",
       "      <td>1.000</td>\n",
       "    </tr>\n",
       "    <tr>\n",
       "      <th>5</th>\n",
       "      <td>WiKi - Bloomz</td>\n",
       "      <td>Abstract ChatGPT_Precision</td>\n",
       "      <td>0.000</td>\n",
       "    </tr>\n",
       "    <tr>\n",
       "      <th>6</th>\n",
       "      <td>Abstract and Wiki - Bloomz</td>\n",
       "      <td>Abstract ChatGPT_Precision</td>\n",
       "      <td>0.500</td>\n",
       "    </tr>\n",
       "    <tr>\n",
       "      <th>7</th>\n",
       "      <td>Abstract, WiKi and ML - Bloomz</td>\n",
       "      <td>Abstract ChatGPT_Precision</td>\n",
       "      <td>0.500</td>\n",
       "    </tr>\n",
       "    <tr>\n",
       "      <th>8</th>\n",
       "      <td>Abstract from ML papers - Llama3</td>\n",
       "      <td>Abstract ChatGPT_Precision</td>\n",
       "      <td>0.242</td>\n",
       "    </tr>\n",
       "    <tr>\n",
       "      <th>9</th>\n",
       "      <td>Abstract - ChatGPT (without preprocessing)</td>\n",
       "      <td>Abstract ChatGPT_Recall</td>\n",
       "      <td>0.977</td>\n",
       "    </tr>\n",
       "    <tr>\n",
       "      <th>10</th>\n",
       "      <td>Abstract - Bloomz (without preprocessing)</td>\n",
       "      <td>Abstract ChatGPT_Recall</td>\n",
       "      <td>0.330</td>\n",
       "    </tr>\n",
       "    <tr>\n",
       "      <th>11</th>\n",
       "      <td>Abstract - ChatGPT</td>\n",
       "      <td>Abstract ChatGPT_Recall</td>\n",
       "      <td>0.798</td>\n",
       "    </tr>\n",
       "    <tr>\n",
       "      <th>12</th>\n",
       "      <td>Abstract - Bloomz</td>\n",
       "      <td>Abstract ChatGPT_Recall</td>\n",
       "      <td>0.080</td>\n",
       "    </tr>\n",
       "    <tr>\n",
       "      <th>13</th>\n",
       "      <td>WiKi - ChatGPT</td>\n",
       "      <td>Abstract ChatGPT_Recall</td>\n",
       "      <td>0.000</td>\n",
       "    </tr>\n",
       "    <tr>\n",
       "      <th>14</th>\n",
       "      <td>WiKi - Bloomz</td>\n",
       "      <td>Abstract ChatGPT_Recall</td>\n",
       "      <td>0.000</td>\n",
       "    </tr>\n",
       "    <tr>\n",
       "      <th>15</th>\n",
       "      <td>Abstract and Wiki - Bloomz</td>\n",
       "      <td>Abstract ChatGPT_Recall</td>\n",
       "      <td>1.000</td>\n",
       "    </tr>\n",
       "    <tr>\n",
       "      <th>16</th>\n",
       "      <td>Abstract, WiKi and ML - Bloomz</td>\n",
       "      <td>Abstract ChatGPT_Recall</td>\n",
       "      <td>1.000</td>\n",
       "    </tr>\n",
       "    <tr>\n",
       "      <th>17</th>\n",
       "      <td>Abstract from ML papers - Llama3</td>\n",
       "      <td>Abstract ChatGPT_Recall</td>\n",
       "      <td>0.120</td>\n",
       "    </tr>\n",
       "    <tr>\n",
       "      <th>18</th>\n",
       "      <td>Abstract - ChatGPT (without preprocessing)</td>\n",
       "      <td>Abstract ChatGPT_Accuracy</td>\n",
       "      <td>0.926</td>\n",
       "    </tr>\n",
       "    <tr>\n",
       "      <th>19</th>\n",
       "      <td>Abstract - Bloomz (without preprocessing)</td>\n",
       "      <td>Abstract ChatGPT_Accuracy</td>\n",
       "      <td>0.486</td>\n",
       "    </tr>\n",
       "  </tbody>\n",
       "</table>\n",
       "</div>"
      ],
      "text/plain": [
       "    Training dataset/Evaluation dataset_Metric                       Model  \\\n",
       "0   Abstract - ChatGPT (without preprocessing)  Abstract ChatGPT_Precision   \n",
       "1    Abstract - Bloomz (without preprocessing)  Abstract ChatGPT_Precision   \n",
       "2                           Abstract - ChatGPT  Abstract ChatGPT_Precision   \n",
       "3                            Abstract - Bloomz  Abstract ChatGPT_Precision   \n",
       "4                               WiKi - ChatGPT  Abstract ChatGPT_Precision   \n",
       "5                                WiKi - Bloomz  Abstract ChatGPT_Precision   \n",
       "6                   Abstract and Wiki - Bloomz  Abstract ChatGPT_Precision   \n",
       "7               Abstract, WiKi and ML - Bloomz  Abstract ChatGPT_Precision   \n",
       "8             Abstract from ML papers - Llama3  Abstract ChatGPT_Precision   \n",
       "9   Abstract - ChatGPT (without preprocessing)     Abstract ChatGPT_Recall   \n",
       "10   Abstract - Bloomz (without preprocessing)     Abstract ChatGPT_Recall   \n",
       "11                          Abstract - ChatGPT     Abstract ChatGPT_Recall   \n",
       "12                           Abstract - Bloomz     Abstract ChatGPT_Recall   \n",
       "13                              WiKi - ChatGPT     Abstract ChatGPT_Recall   \n",
       "14                               WiKi - Bloomz     Abstract ChatGPT_Recall   \n",
       "15                  Abstract and Wiki - Bloomz     Abstract ChatGPT_Recall   \n",
       "16              Abstract, WiKi and ML - Bloomz     Abstract ChatGPT_Recall   \n",
       "17            Abstract from ML papers - Llama3     Abstract ChatGPT_Recall   \n",
       "18  Abstract - ChatGPT (without preprocessing)   Abstract ChatGPT_Accuracy   \n",
       "19   Abstract - Bloomz (without preprocessing)   Abstract ChatGPT_Accuracy   \n",
       "\n",
       "    score  \n",
       "0   0.887  \n",
       "1   0.479  \n",
       "2   0.882  \n",
       "3   0.219  \n",
       "4   1.000  \n",
       "5   0.000  \n",
       "6   0.500  \n",
       "7   0.500  \n",
       "8   0.242  \n",
       "9   0.977  \n",
       "10  0.330  \n",
       "11  0.798  \n",
       "12  0.080  \n",
       "13  0.000  \n",
       "14  0.000  \n",
       "15  1.000  \n",
       "16  1.000  \n",
       "17  0.120  \n",
       "18  0.926  \n",
       "19  0.486  "
      ]
     },
     "execution_count": 8,
     "metadata": {},
     "output_type": "execute_result"
    }
   ],
   "source": [
    "# Use the melt function to convert rows to columns\n",
    "df_melt_xgboost = pd.melt(xgboost, id_vars=['Training dataset/Evaluation dataset_Metric'], var_name='Model', value_name='score')\n",
    "df_melt_bloomz = pd.melt(bloomz, id_vars=['Training dataset/Evaluation dataset_Metric'], var_name='Model', value_name='score')\n",
    "df_melt_roberta = pd.melt(roberta, id_vars=['Training dataset/Evaluation dataset_Metric'], var_name='Model', value_name='score')\n",
    "df_melt_xgboost.head(20)"
   ]
  },
  {
   "cell_type": "code",
   "execution_count": 9,
   "metadata": {},
   "outputs": [],
   "source": [
    "# Split the column into two based on '_'\n",
    "df_melt_xgboost[['Models', 'Metric']] = df_melt_xgboost['Model'].str.split('_', expand=True)\n",
    "df_melt_bloomz[['Models', 'Metric']] = df_melt_bloomz['Model'].str.split('_', expand=True)\n",
    "df_melt_roberta[['Models', 'Metric']] = df_melt_roberta['Model'].str.split('_', expand=True)\n",
    "\n",
    "# Drop the original column if no longer needed\n",
    "df_melt_xgboost = df_melt_xgboost.drop(columns=['Model'])\n",
    "df_melt_bloomz = df_melt_bloomz.drop(columns=['Model'])\n",
    "df_melt_roberta = df_melt_roberta.drop(columns=['Model'])"
   ]
  },
  {
   "cell_type": "code",
   "execution_count": 10,
   "metadata": {},
   "outputs": [
    {
     "data": {
      "text/html": [
       "<div>\n",
       "<style scoped>\n",
       "    .dataframe tbody tr th:only-of-type {\n",
       "        vertical-align: middle;\n",
       "    }\n",
       "\n",
       "    .dataframe tbody tr th {\n",
       "        vertical-align: top;\n",
       "    }\n",
       "\n",
       "    .dataframe thead th {\n",
       "        text-align: right;\n",
       "    }\n",
       "</style>\n",
       "<table border=\"1\" class=\"dataframe\">\n",
       "  <thead>\n",
       "    <tr style=\"text-align: right;\">\n",
       "      <th></th>\n",
       "      <th>Training dataset/Evaluation dataset_Metric</th>\n",
       "      <th>score</th>\n",
       "      <th>Models</th>\n",
       "      <th>Metric</th>\n",
       "    </tr>\n",
       "  </thead>\n",
       "  <tbody>\n",
       "    <tr>\n",
       "      <th>0</th>\n",
       "      <td>Pretrained Roberta</td>\n",
       "      <td>1.000</td>\n",
       "      <td>Abstract ChatGPT</td>\n",
       "      <td>F1-Score</td>\n",
       "    </tr>\n",
       "    <tr>\n",
       "      <th>1</th>\n",
       "      <td>Abstract - ChatGPT (without preprocessing)</td>\n",
       "      <td>0.643</td>\n",
       "      <td>Abstract ChatGPT</td>\n",
       "      <td>F1-Score</td>\n",
       "    </tr>\n",
       "    <tr>\n",
       "      <th>2</th>\n",
       "      <td>Abstract - ChatGPT</td>\n",
       "      <td>0.997</td>\n",
       "      <td>Abstract ChatGPT</td>\n",
       "      <td>F1-Score</td>\n",
       "    </tr>\n",
       "    <tr>\n",
       "      <th>3</th>\n",
       "      <td>Abstract - Bloomz</td>\n",
       "      <td>0.995</td>\n",
       "      <td>Abstract ChatGPT</td>\n",
       "      <td>F1-Score</td>\n",
       "    </tr>\n",
       "    <tr>\n",
       "      <th>4</th>\n",
       "      <td>Abstract from ML papers - Llama3</td>\n",
       "      <td>NaN</td>\n",
       "      <td>Abstract ChatGPT</td>\n",
       "      <td>F1-Score</td>\n",
       "    </tr>\n",
       "    <tr>\n",
       "      <th>5</th>\n",
       "      <td>Abstract and Wiki - Bloomz</td>\n",
       "      <td>NaN</td>\n",
       "      <td>Abstract ChatGPT</td>\n",
       "      <td>F1-Score</td>\n",
       "    </tr>\n",
       "    <tr>\n",
       "      <th>6</th>\n",
       "      <td>Abstract, WiKi and ML - Bloomz</td>\n",
       "      <td>NaN</td>\n",
       "      <td>Abstract ChatGPT</td>\n",
       "      <td>F1-Score</td>\n",
       "    </tr>\n",
       "    <tr>\n",
       "      <th>7</th>\n",
       "      <td>Pretrained Roberta</td>\n",
       "      <td>1.000</td>\n",
       "      <td>Abstract ChatGPT</td>\n",
       "      <td>Precision</td>\n",
       "    </tr>\n",
       "    <tr>\n",
       "      <th>8</th>\n",
       "      <td>Abstract - ChatGPT (without preprocessing)</td>\n",
       "      <td>0.750</td>\n",
       "      <td>Abstract ChatGPT</td>\n",
       "      <td>Precision</td>\n",
       "    </tr>\n",
       "    <tr>\n",
       "      <th>9</th>\n",
       "      <td>Abstract - ChatGPT</td>\n",
       "      <td>0.995</td>\n",
       "      <td>Abstract ChatGPT</td>\n",
       "      <td>Precision</td>\n",
       "    </tr>\n",
       "    <tr>\n",
       "      <th>10</th>\n",
       "      <td>Abstract - Bloomz</td>\n",
       "      <td>0.990</td>\n",
       "      <td>Abstract ChatGPT</td>\n",
       "      <td>Precision</td>\n",
       "    </tr>\n",
       "    <tr>\n",
       "      <th>11</th>\n",
       "      <td>Abstract from ML papers - Llama3</td>\n",
       "      <td>NaN</td>\n",
       "      <td>Abstract ChatGPT</td>\n",
       "      <td>Precision</td>\n",
       "    </tr>\n",
       "    <tr>\n",
       "      <th>12</th>\n",
       "      <td>Abstract and Wiki - Bloomz</td>\n",
       "      <td>NaN</td>\n",
       "      <td>Abstract ChatGPT</td>\n",
       "      <td>Precision</td>\n",
       "    </tr>\n",
       "    <tr>\n",
       "      <th>13</th>\n",
       "      <td>Abstract, WiKi and ML - Bloomz</td>\n",
       "      <td>NaN</td>\n",
       "      <td>Abstract ChatGPT</td>\n",
       "      <td>Precision</td>\n",
       "    </tr>\n",
       "    <tr>\n",
       "      <th>14</th>\n",
       "      <td>Pretrained Roberta</td>\n",
       "      <td>1.000</td>\n",
       "      <td>Abstract ChatGPT</td>\n",
       "      <td>Recall</td>\n",
       "    </tr>\n",
       "    <tr>\n",
       "      <th>15</th>\n",
       "      <td>Abstract - ChatGPT (without preprocessing)</td>\n",
       "      <td>0.550</td>\n",
       "      <td>Abstract ChatGPT</td>\n",
       "      <td>Recall</td>\n",
       "    </tr>\n",
       "    <tr>\n",
       "      <th>16</th>\n",
       "      <td>Abstract - ChatGPT</td>\n",
       "      <td>1.000</td>\n",
       "      <td>Abstract ChatGPT</td>\n",
       "      <td>Recall</td>\n",
       "    </tr>\n",
       "    <tr>\n",
       "      <th>17</th>\n",
       "      <td>Abstract - Bloomz</td>\n",
       "      <td>1.000</td>\n",
       "      <td>Abstract ChatGPT</td>\n",
       "      <td>Recall</td>\n",
       "    </tr>\n",
       "    <tr>\n",
       "      <th>18</th>\n",
       "      <td>Abstract from ML papers - Llama3</td>\n",
       "      <td>NaN</td>\n",
       "      <td>Abstract ChatGPT</td>\n",
       "      <td>Recall</td>\n",
       "    </tr>\n",
       "    <tr>\n",
       "      <th>19</th>\n",
       "      <td>Abstract and Wiki - Bloomz</td>\n",
       "      <td>NaN</td>\n",
       "      <td>Abstract ChatGPT</td>\n",
       "      <td>Recall</td>\n",
       "    </tr>\n",
       "  </tbody>\n",
       "</table>\n",
       "</div>"
      ],
      "text/plain": [
       "    Training dataset/Evaluation dataset_Metric  score            Models  \\\n",
       "0                           Pretrained Roberta  1.000  Abstract ChatGPT   \n",
       "1   Abstract - ChatGPT (without preprocessing)  0.643  Abstract ChatGPT   \n",
       "2                           Abstract - ChatGPT  0.997  Abstract ChatGPT   \n",
       "3                            Abstract - Bloomz  0.995  Abstract ChatGPT   \n",
       "4             Abstract from ML papers - Llama3    NaN  Abstract ChatGPT   \n",
       "5                   Abstract and Wiki - Bloomz    NaN  Abstract ChatGPT   \n",
       "6               Abstract, WiKi and ML - Bloomz    NaN  Abstract ChatGPT   \n",
       "7                           Pretrained Roberta  1.000  Abstract ChatGPT   \n",
       "8   Abstract - ChatGPT (without preprocessing)  0.750  Abstract ChatGPT   \n",
       "9                           Abstract - ChatGPT  0.995  Abstract ChatGPT   \n",
       "10                           Abstract - Bloomz  0.990  Abstract ChatGPT   \n",
       "11            Abstract from ML papers - Llama3    NaN  Abstract ChatGPT   \n",
       "12                  Abstract and Wiki - Bloomz    NaN  Abstract ChatGPT   \n",
       "13              Abstract, WiKi and ML - Bloomz    NaN  Abstract ChatGPT   \n",
       "14                          Pretrained Roberta  1.000  Abstract ChatGPT   \n",
       "15  Abstract - ChatGPT (without preprocessing)  0.550  Abstract ChatGPT   \n",
       "16                          Abstract - ChatGPT  1.000  Abstract ChatGPT   \n",
       "17                           Abstract - Bloomz  1.000  Abstract ChatGPT   \n",
       "18            Abstract from ML papers - Llama3    NaN  Abstract ChatGPT   \n",
       "19                  Abstract and Wiki - Bloomz    NaN  Abstract ChatGPT   \n",
       "\n",
       "       Metric  \n",
       "0    F1-Score  \n",
       "1    F1-Score  \n",
       "2    F1-Score  \n",
       "3    F1-Score  \n",
       "4    F1-Score  \n",
       "5    F1-Score  \n",
       "6    F1-Score  \n",
       "7   Precision  \n",
       "8   Precision  \n",
       "9   Precision  \n",
       "10  Precision  \n",
       "11  Precision  \n",
       "12  Precision  \n",
       "13  Precision  \n",
       "14     Recall  \n",
       "15     Recall  \n",
       "16     Recall  \n",
       "17     Recall  \n",
       "18     Recall  \n",
       "19     Recall  "
      ]
     },
     "execution_count": 10,
     "metadata": {},
     "output_type": "execute_result"
    }
   ],
   "source": [
    "df_melt_roberta.head(20)"
   ]
  },
  {
   "cell_type": "code",
   "execution_count": 11,
   "metadata": {},
   "outputs": [],
   "source": [
    "df_melt_xgboost['score'] = df_melt_xgboost['score'].astype(float)\n",
    "df_melt_bloomz['score'] = df_melt_bloomz['score'].astype(float)\n",
    "df_melt_roberta['score'] = df_melt_roberta['score'].astype(float)"
   ]
  },
  {
   "cell_type": "code",
   "execution_count": 12,
   "metadata": {},
   "outputs": [],
   "source": [
    "df_melt_xgboost = df_melt_xgboost.rename(columns={'Training dataset/Evaluation dataset_Metric': 'Training Data'})\n",
    "df_melt_bloomz = df_melt_bloomz.rename(columns={'Training dataset/Evaluation dataset_Metric': 'Training Data'})\n",
    "df_melt_roberta = df_melt_roberta.rename(columns={'Training dataset/Evaluation dataset_Metric': 'Training Data'})\n",
    "\n",
    "df_melt_xgboost = df_melt_xgboost.rename(columns={'Models': 'Evaluation Data'})\n",
    "df_melt_bloomz = df_melt_bloomz.rename(columns={'Models': 'Evaluation Data'})\n",
    "df_melt_roberta = df_melt_roberta.rename(columns={'Models': 'Evaluation Data'})"
   ]
  },
  {
   "cell_type": "code",
   "execution_count": 13,
   "metadata": {},
   "outputs": [],
   "source": [
    "df_melt_xgboost['Detector Type'] = 'XGBoost Detector'\n",
    "df_melt_bloomz['Detector Type'] = 'Bloomz Detector'\n",
    "df_melt_roberta['Detector Type'] = 'Roberta Detector'"
   ]
  },
  {
   "cell_type": "code",
   "execution_count": 14,
   "metadata": {},
   "outputs": [],
   "source": [
    "filtered_df_xgboost = df_melt_xgboost[df_melt_xgboost['Training Data'].isin(['Abstract - ChatGPT', 'Abstract - Bloomz', 'Abstract and Wiki - Bloomz'])]\n",
    "filtered_df_xgboost = filtered_df_xgboost[filtered_df_xgboost['Evaluation Data'].isin(['Wiki ChatGPT', 'Wiki Bloomz', 'Wiki Davinci', 'Wiki Cohere'])]"
   ]
  },
  {
   "cell_type": "code",
   "execution_count": 15,
   "metadata": {},
   "outputs": [],
   "source": [
    "filtered_df_bloomz = df_melt_bloomz[df_melt_bloomz['Training Data'].isin(['Abstract - ChatGPT', 'Abstract - Bloomz', 'Abstract and Wiki - Bloomz'])]\n",
    "filtered_df_bloomz = filtered_df_bloomz[filtered_df_bloomz['Evaluation Data'].isin(['Wiki ChatGPT', 'Wiki Bloomz', 'Wiki Davinci', 'Wiki Cohere'])]"
   ]
  },
  {
   "cell_type": "code",
   "execution_count": 16,
   "metadata": {},
   "outputs": [],
   "source": [
    "filtered_df_roberta = df_melt_roberta[df_melt_roberta['Training Data'].isin(['Abstract - ChatGPT', 'Abstract - Bloomz', 'Abstract and Wiki - Bloomz'])]\n",
    "filtered_df_roberta = filtered_df_roberta[filtered_df_roberta['Evaluation Data'].isin(['Wiki ChatGPT', 'Wiki Bloomz', 'Wiki Davinci', 'Wiki Cohere'])]"
   ]
  },
  {
   "cell_type": "code",
   "execution_count": 19,
   "metadata": {},
   "outputs": [],
   "source": [
    "results = pd.concat([filtered_df_xgboost, filtered_df_bloomz])"
   ]
  },
  {
   "cell_type": "code",
   "execution_count": 20,
   "metadata": {},
   "outputs": [
    {
     "data": {
      "application/vnd.plotly.v1+json": {
       "config": {
        "plotlyServerURL": "https://plot.ly"
       },
       "data": [
        {
         "alignmentgroup": "True",
         "cliponaxis": false,
         "hovertemplate": "Metric=Accuracy<br>Detector Type=XGBoost Detector<br>Evaluation Data=Wiki ChatGPT<br>Training Data=%{x}<br>score=%{text}<extra></extra>",
         "legendgroup": "Accuracy",
         "marker": {
          "color": "#7FD4C1",
          "pattern": {
           "shape": ""
          }
         },
         "name": "Accuracy",
         "offsetgroup": "Accuracy",
         "orientation": "v",
         "showlegend": true,
         "text": [
          0.5,
          0.384,
          0.484
         ],
         "textposition": "outside",
         "texttemplate": "%{text:.2f}",
         "type": "bar",
         "x": [
          "Abstract - ChatGPT",
          "Abstract - Bloomz",
          "Abstract and Wiki - Bloomz"
         ],
         "xaxis": "x5",
         "y": [
          0.5,
          0.384,
          0.484
         ],
         "yaxis": "y5"
        },
        {
         "alignmentgroup": "True",
         "cliponaxis": false,
         "hovertemplate": "Metric=Accuracy<br>Detector Type=XGBoost Detector<br>Evaluation Data=Wiki Bloomz<br>Training Data=%{x}<br>score=%{text}<extra></extra>",
         "legendgroup": "Accuracy",
         "marker": {
          "color": "#7FD4C1",
          "pattern": {
           "shape": ""
          }
         },
         "name": "Accuracy",
         "offsetgroup": "Accuracy",
         "orientation": "v",
         "showlegend": false,
         "text": [
          0.5,
          0.611,
          0.538
         ],
         "textposition": "outside",
         "texttemplate": "%{text:.2f}",
         "type": "bar",
         "x": [
          "Abstract - ChatGPT",
          "Abstract - Bloomz",
          "Abstract and Wiki - Bloomz"
         ],
         "xaxis": "x6",
         "y": [
          0.5,
          0.611,
          0.538
         ],
         "yaxis": "y6"
        },
        {
         "alignmentgroup": "True",
         "cliponaxis": false,
         "hovertemplate": "Metric=Accuracy<br>Detector Type=XGBoost Detector<br>Evaluation Data=Wiki Davinci<br>Training Data=%{x}<br>score=%{text}<extra></extra>",
         "legendgroup": "Accuracy",
         "marker": {
          "color": "#7FD4C1",
          "pattern": {
           "shape": ""
          }
         },
         "name": "Accuracy",
         "offsetgroup": "Accuracy",
         "orientation": "v",
         "showlegend": false,
         "text": [
          0.5,
          0.449,
          0.523
         ],
         "textposition": "outside",
         "texttemplate": "%{text:.2f}",
         "type": "bar",
         "x": [
          "Abstract - ChatGPT",
          "Abstract - Bloomz",
          "Abstract and Wiki - Bloomz"
         ],
         "xaxis": "x7",
         "y": [
          0.5,
          0.449,
          0.523
         ],
         "yaxis": "y7"
        },
        {
         "alignmentgroup": "True",
         "cliponaxis": false,
         "hovertemplate": "Metric=Accuracy<br>Detector Type=XGBoost Detector<br>Evaluation Data=Wiki Cohere<br>Training Data=%{x}<br>score=%{text}<extra></extra>",
         "legendgroup": "Accuracy",
         "marker": {
          "color": "#7FD4C1",
          "pattern": {
           "shape": ""
          }
         },
         "name": "Accuracy",
         "offsetgroup": "Accuracy",
         "orientation": "v",
         "showlegend": false,
         "text": [
          0.5,
          0.443,
          0.426
         ],
         "textposition": "outside",
         "texttemplate": "%{text:.2f}",
         "type": "bar",
         "x": [
          "Abstract - ChatGPT",
          "Abstract - Bloomz",
          "Abstract and Wiki - Bloomz"
         ],
         "xaxis": "x8",
         "y": [
          0.5,
          0.443,
          0.426
         ],
         "yaxis": "y8"
        },
        {
         "alignmentgroup": "True",
         "cliponaxis": false,
         "hovertemplate": "Metric=Precision<br>Detector Type=XGBoost Detector<br>Evaluation Data=Wiki ChatGPT<br>Training Data=%{x}<br>score=%{text}<extra></extra>",
         "legendgroup": "Precision",
         "marker": {
          "color": "#30BFDD",
          "pattern": {
           "shape": ""
          }
         },
         "name": "Precision",
         "offsetgroup": "Precision",
         "orientation": "v",
         "showlegend": true,
         "text": [
          1,
          0.358,
          0.49
         ],
         "textposition": "outside",
         "texttemplate": "%{text:.2f}",
         "type": "bar",
         "x": [
          "Abstract - ChatGPT",
          "Abstract - Bloomz",
          "Abstract and Wiki - Bloomz"
         ],
         "xaxis": "x5",
         "y": [
          1,
          0.358,
          0.49
         ],
         "yaxis": "y5"
        },
        {
         "alignmentgroup": "True",
         "cliponaxis": false,
         "hovertemplate": "Metric=Precision<br>Detector Type=XGBoost Detector<br>Evaluation Data=Wiki Bloomz<br>Training Data=%{x}<br>score=%{text}<extra></extra>",
         "legendgroup": "Precision",
         "marker": {
          "color": "#30BFDD",
          "pattern": {
           "shape": ""
          }
         },
         "name": "Precision",
         "offsetgroup": "Precision",
         "orientation": "v",
         "showlegend": false,
         "text": [
          0.5,
          0.583,
          0.521
         ],
         "textposition": "outside",
         "texttemplate": "%{text:.2f}",
         "type": "bar",
         "x": [
          "Abstract - ChatGPT",
          "Abstract - Bloomz",
          "Abstract and Wiki - Bloomz"
         ],
         "xaxis": "x6",
         "y": [
          0.5,
          0.583,
          0.521
         ],
         "yaxis": "y6"
        },
        {
         "alignmentgroup": "True",
         "cliponaxis": false,
         "hovertemplate": "Metric=Precision<br>Detector Type=XGBoost Detector<br>Evaluation Data=Wiki Davinci<br>Training Data=%{x}<br>score=%{text}<extra></extra>",
         "legendgroup": "Precision",
         "marker": {
          "color": "#30BFDD",
          "pattern": {
           "shape": ""
          }
         },
         "name": "Precision",
         "offsetgroup": "Precision",
         "orientation": "v",
         "showlegend": false,
         "text": [
          1,
          0.446,
          0.514
         ],
         "textposition": "outside",
         "texttemplate": "%{text:.2f}",
         "type": "bar",
         "x": [
          "Abstract - ChatGPT",
          "Abstract - Bloomz",
          "Abstract and Wiki - Bloomz"
         ],
         "xaxis": "x7",
         "y": [
          1,
          0.446,
          0.514
         ],
         "yaxis": "y7"
        },
        {
         "alignmentgroup": "True",
         "cliponaxis": false,
         "hovertemplate": "Metric=Precision<br>Detector Type=XGBoost Detector<br>Evaluation Data=Wiki Cohere<br>Training Data=%{x}<br>score=%{text}<extra></extra>",
         "legendgroup": "Precision",
         "marker": {
          "color": "#30BFDD",
          "pattern": {
           "shape": ""
          }
         },
         "name": "Precision",
         "offsetgroup": "Precision",
         "orientation": "v",
         "showlegend": false,
         "text": [
          1,
          0.443,
          0.452
         ],
         "textposition": "outside",
         "texttemplate": "%{text:.2f}",
         "type": "bar",
         "x": [
          "Abstract - ChatGPT",
          "Abstract - Bloomz",
          "Abstract and Wiki - Bloomz"
         ],
         "xaxis": "x8",
         "y": [
          1,
          0.443,
          0.452
         ],
         "yaxis": "y8"
        },
        {
         "alignmentgroup": "True",
         "cliponaxis": false,
         "hovertemplate": "Metric=Precision<br>Detector Type=Bloomz Detector<br>Evaluation Data=Wiki ChatGPT<br>Training Data=%{x}<br>score=%{text}<extra></extra>",
         "legendgroup": "Precision",
         "marker": {
          "color": "#30BFDD",
          "pattern": {
           "shape": ""
          }
         },
         "name": "Precision",
         "offsetgroup": "Precision",
         "orientation": "v",
         "showlegend": false,
         "text": [
          1,
          0.914,
          0.993
         ],
         "textposition": "outside",
         "texttemplate": "%{text:.2f}",
         "type": "bar",
         "x": [
          "Abstract - ChatGPT",
          "Abstract - Bloomz",
          "Abstract and Wiki - Bloomz"
         ],
         "xaxis": "x",
         "y": [
          1,
          0.914,
          0.993
         ],
         "yaxis": "y"
        },
        {
         "alignmentgroup": "True",
         "cliponaxis": false,
         "hovertemplate": "Metric=Precision<br>Detector Type=Bloomz Detector<br>Evaluation Data=Wiki Bloomz<br>Training Data=%{x}<br>score=%{text}<extra></extra>",
         "legendgroup": "Precision",
         "marker": {
          "color": "#30BFDD",
          "pattern": {
           "shape": ""
          }
         },
         "name": "Precision",
         "offsetgroup": "Precision",
         "orientation": "v",
         "showlegend": false,
         "text": [
          1,
          0.69,
          1
         ],
         "textposition": "outside",
         "texttemplate": "%{text:.2f}",
         "type": "bar",
         "x": [
          "Abstract - ChatGPT",
          "Abstract - Bloomz",
          "Abstract and Wiki - Bloomz"
         ],
         "xaxis": "x2",
         "y": [
          1,
          0.69,
          1
         ],
         "yaxis": "y2"
        },
        {
         "alignmentgroup": "True",
         "cliponaxis": false,
         "hovertemplate": "Metric=Precision<br>Detector Type=Bloomz Detector<br>Evaluation Data=Wiki Davinci<br>Training Data=%{x}<br>score=%{text}<extra></extra>",
         "legendgroup": "Precision",
         "marker": {
          "color": "#30BFDD",
          "pattern": {
           "shape": ""
          }
         },
         "name": "Precision",
         "offsetgroup": "Precision",
         "orientation": "v",
         "showlegend": false,
         "text": [
          1,
          0.441,
          1
         ],
         "textposition": "outside",
         "texttemplate": "%{text:.2f}",
         "type": "bar",
         "x": [
          "Abstract - ChatGPT",
          "Abstract - Bloomz",
          "Abstract and Wiki - Bloomz"
         ],
         "xaxis": "x3",
         "y": [
          1,
          0.441,
          1
         ],
         "yaxis": "y3"
        },
        {
         "alignmentgroup": "True",
         "cliponaxis": false,
         "hovertemplate": "Metric=Precision<br>Detector Type=Bloomz Detector<br>Evaluation Data=Wiki Cohere<br>Training Data=%{x}<br>score=%{text}<extra></extra>",
         "legendgroup": "Precision",
         "marker": {
          "color": "#30BFDD",
          "pattern": {
           "shape": ""
          }
         },
         "name": "Precision",
         "offsetgroup": "Precision",
         "orientation": "v",
         "showlegend": false,
         "text": [
          1,
          0.333,
          0.991
         ],
         "textposition": "outside",
         "texttemplate": "%{text:.2f}",
         "type": "bar",
         "x": [
          "Abstract - ChatGPT",
          "Abstract - Bloomz",
          "Abstract and Wiki - Bloomz"
         ],
         "xaxis": "x4",
         "y": [
          1,
          0.333,
          0.991
         ],
         "yaxis": "y4"
        },
        {
         "alignmentgroup": "True",
         "cliponaxis": false,
         "hovertemplate": "Metric=Recall<br>Detector Type=XGBoost Detector<br>Evaluation Data=Wiki ChatGPT<br>Training Data=%{x}<br>score=%{text}<extra></extra>",
         "legendgroup": "Recall",
         "marker": {
          "color": "#ACD0F4",
          "pattern": {
           "shape": ""
          }
         },
         "name": "Recall",
         "offsetgroup": "Recall",
         "orientation": "v",
         "showlegend": true,
         "text": [
          0,
          0.294,
          0.796
         ],
         "textposition": "outside",
         "texttemplate": "%{text:.2f}",
         "type": "bar",
         "x": [
          "Abstract - ChatGPT",
          "Abstract - Bloomz",
          "Abstract and Wiki - Bloomz"
         ],
         "xaxis": "x5",
         "y": [
          0,
          0.294,
          0.796
         ],
         "yaxis": "y5"
        },
        {
         "alignmentgroup": "True",
         "cliponaxis": false,
         "hovertemplate": "Metric=Recall<br>Detector Type=XGBoost Detector<br>Evaluation Data=Wiki Bloomz<br>Training Data=%{x}<br>score=%{text}<extra></extra>",
         "legendgroup": "Recall",
         "marker": {
          "color": "#ACD0F4",
          "pattern": {
           "shape": ""
          }
         },
         "name": "Recall",
         "offsetgroup": "Recall",
         "orientation": "v",
         "showlegend": false,
         "text": [
          0.002,
          0.78,
          0.968
         ],
         "textposition": "outside",
         "texttemplate": "%{text:.2f}",
         "type": "bar",
         "x": [
          "Abstract - ChatGPT",
          "Abstract - Bloomz",
          "Abstract and Wiki - Bloomz"
         ],
         "xaxis": "x6",
         "y": [
          0.002,
          0.78,
          0.968
         ],
         "yaxis": "y6"
        },
        {
         "alignmentgroup": "True",
         "cliponaxis": false,
         "hovertemplate": "Metric=Recall<br>Detector Type=XGBoost Detector<br>Evaluation Data=Wiki Davinci<br>Training Data=%{x}<br>score=%{text}<extra></extra>",
         "legendgroup": "Recall",
         "marker": {
          "color": "#ACD0F4",
          "pattern": {
           "shape": ""
          }
         },
         "name": "Recall",
         "offsetgroup": "Recall",
         "orientation": "v",
         "showlegend": false,
         "text": [
          0,
          0.418,
          0.848
         ],
         "textposition": "outside",
         "texttemplate": "%{text:.2f}",
         "type": "bar",
         "x": [
          "Abstract - ChatGPT",
          "Abstract - Bloomz",
          "Abstract and Wiki - Bloomz"
         ],
         "xaxis": "x7",
         "y": [
          0,
          0.418,
          0.848
         ],
         "yaxis": "y7"
        },
        {
         "alignmentgroup": "True",
         "cliponaxis": false,
         "hovertemplate": "Metric=Recall<br>Detector Type=XGBoost Detector<br>Evaluation Data=Wiki Cohere<br>Training Data=%{x}<br>score=%{text}<extra></extra>",
         "legendgroup": "Recall",
         "marker": {
          "color": "#ACD0F4",
          "pattern": {
           "shape": ""
          }
         },
         "name": "Recall",
         "offsetgroup": "Recall",
         "orientation": "v",
         "showlegend": false,
         "text": [
          0,
          0.436,
          0.694
         ],
         "textposition": "outside",
         "texttemplate": "%{text:.2f}",
         "type": "bar",
         "x": [
          "Abstract - ChatGPT",
          "Abstract - Bloomz",
          "Abstract and Wiki - Bloomz"
         ],
         "xaxis": "x8",
         "y": [
          0,
          0.436,
          0.694
         ],
         "yaxis": "y8"
        },
        {
         "alignmentgroup": "True",
         "cliponaxis": false,
         "hovertemplate": "Metric=Recall<br>Detector Type=Bloomz Detector<br>Evaluation Data=Wiki ChatGPT<br>Training Data=%{x}<br>score=%{text}<extra></extra>",
         "legendgroup": "Recall",
         "marker": {
          "color": "#ACD0F4",
          "pattern": {
           "shape": ""
          }
         },
         "name": "Recall",
         "offsetgroup": "Recall",
         "orientation": "v",
         "showlegend": false,
         "text": [
          0,
          0.87,
          1
         ],
         "textposition": "outside",
         "texttemplate": "%{text:.2f}",
         "type": "bar",
         "x": [
          "Abstract - ChatGPT",
          "Abstract - Bloomz",
          "Abstract and Wiki - Bloomz"
         ],
         "xaxis": "x",
         "y": [
          0,
          0.87,
          1
         ],
         "yaxis": "y"
        },
        {
         "alignmentgroup": "True",
         "cliponaxis": false,
         "hovertemplate": "Metric=Recall<br>Detector Type=Bloomz Detector<br>Evaluation Data=Wiki Bloomz<br>Training Data=%{x}<br>score=%{text}<extra></extra>",
         "legendgroup": "Recall",
         "marker": {
          "color": "#ACD0F4",
          "pattern": {
           "shape": ""
          }
         },
         "name": "Recall",
         "offsetgroup": "Recall",
         "orientation": "v",
         "showlegend": false,
         "text": [
          0.047,
          0.081,
          0.217
         ],
         "textposition": "outside",
         "texttemplate": "%{text:.2f}",
         "type": "bar",
         "x": [
          "Abstract - ChatGPT",
          "Abstract - Bloomz",
          "Abstract and Wiki - Bloomz"
         ],
         "xaxis": "x2",
         "y": [
          0.047,
          0.081,
          0.217
         ],
         "yaxis": "y2"
        },
        {
         "alignmentgroup": "True",
         "cliponaxis": false,
         "hovertemplate": "Metric=Recall<br>Detector Type=Bloomz Detector<br>Evaluation Data=Wiki Davinci<br>Training Data=%{x}<br>score=%{text}<extra></extra>",
         "legendgroup": "Recall",
         "marker": {
          "color": "#ACD0F4",
          "pattern": {
           "shape": ""
          }
         },
         "name": "Recall",
         "offsetgroup": "Recall",
         "orientation": "v",
         "showlegend": false,
         "text": [
          0.011,
          0.04,
          0.052
         ],
         "textposition": "outside",
         "texttemplate": "%{text:.2f}",
         "type": "bar",
         "x": [
          "Abstract - ChatGPT",
          "Abstract - Bloomz",
          "Abstract and Wiki - Bloomz"
         ],
         "xaxis": "x3",
         "y": [
          0.011,
          0.04,
          0.052
         ],
         "yaxis": "y3"
        },
        {
         "alignmentgroup": "True",
         "cliponaxis": false,
         "hovertemplate": "Metric=Recall<br>Detector Type=Bloomz Detector<br>Evaluation Data=Wiki Cohere<br>Training Data=%{x}<br>score=%{text}<extra></extra>",
         "legendgroup": "Recall",
         "marker": {
          "color": "#ACD0F4",
          "pattern": {
           "shape": ""
          }
         },
         "name": "Recall",
         "offsetgroup": "Recall",
         "orientation": "v",
         "showlegend": false,
         "text": [
          0.023,
          0.028,
          0.244
         ],
         "textposition": "outside",
         "texttemplate": "%{text:.2f}",
         "type": "bar",
         "x": [
          "Abstract - ChatGPT",
          "Abstract - Bloomz",
          "Abstract and Wiki - Bloomz"
         ],
         "xaxis": "x4",
         "y": [
          0.023,
          0.028,
          0.244
         ],
         "yaxis": "y4"
        },
        {
         "alignmentgroup": "True",
         "cliponaxis": false,
         "hovertemplate": "Metric=F1-Score<br>Detector Type=XGBoost Detector<br>Evaluation Data=Wiki ChatGPT<br>Training Data=%{x}<br>score=%{text}<extra></extra>",
         "legendgroup": "F1-Score",
         "marker": {
          "color": "#F7C0BB",
          "pattern": {
           "shape": ""
          }
         },
         "name": "F1-Score",
         "offsetgroup": "F1-Score",
         "orientation": "v",
         "showlegend": true,
         "text": [
          0,
          0.323,
          0.607
         ],
         "textposition": "outside",
         "texttemplate": "%{text:.2f}",
         "type": "bar",
         "x": [
          "Abstract - ChatGPT",
          "Abstract - Bloomz",
          "Abstract and Wiki - Bloomz"
         ],
         "xaxis": "x5",
         "y": [
          0,
          0.323,
          0.607
         ],
         "yaxis": "y5"
        },
        {
         "alignmentgroup": "True",
         "cliponaxis": false,
         "hovertemplate": "Metric=F1-Score<br>Detector Type=XGBoost Detector<br>Evaluation Data=Wiki Bloomz<br>Training Data=%{x}<br>score=%{text}<extra></extra>",
         "legendgroup": "F1-Score",
         "marker": {
          "color": "#F7C0BB",
          "pattern": {
           "shape": ""
          }
         },
         "name": "F1-Score",
         "offsetgroup": "F1-Score",
         "orientation": "v",
         "showlegend": false,
         "text": [
          0.003,
          0.667,
          0.677
         ],
         "textposition": "outside",
         "texttemplate": "%{text:.2f}",
         "type": "bar",
         "x": [
          "Abstract - ChatGPT",
          "Abstract - Bloomz",
          "Abstract and Wiki - Bloomz"
         ],
         "xaxis": "x6",
         "y": [
          0.003,
          0.667,
          0.677
         ],
         "yaxis": "y6"
        },
        {
         "alignmentgroup": "True",
         "cliponaxis": false,
         "hovertemplate": "Metric=F1-Score<br>Detector Type=XGBoost Detector<br>Evaluation Data=Wiki Davinci<br>Training Data=%{x}<br>score=%{text}<extra></extra>",
         "legendgroup": "F1-Score",
         "marker": {
          "color": "#F7C0BB",
          "pattern": {
           "shape": ""
          }
         },
         "name": "F1-Score",
         "offsetgroup": "F1-Score",
         "orientation": "v",
         "showlegend": false,
         "text": [
          0,
          0.432,
          0.64
         ],
         "textposition": "outside",
         "texttemplate": "%{text:.2f}",
         "type": "bar",
         "x": [
          "Abstract - ChatGPT",
          "Abstract - Bloomz",
          "Abstract and Wiki - Bloomz"
         ],
         "xaxis": "x7",
         "y": [
          0,
          0.432,
          0.64
         ],
         "yaxis": "y7"
        },
        {
         "alignmentgroup": "True",
         "cliponaxis": false,
         "hovertemplate": "Metric=F1-Score<br>Detector Type=XGBoost Detector<br>Evaluation Data=Wiki Cohere<br>Training Data=%{x}<br>score=%{text}<extra></extra>",
         "legendgroup": "F1-Score",
         "marker": {
          "color": "#F7C0BB",
          "pattern": {
           "shape": ""
          }
         },
         "name": "F1-Score",
         "offsetgroup": "F1-Score",
         "orientation": "v",
         "showlegend": false,
         "text": [
          0,
          0.439,
          0.548
         ],
         "textposition": "outside",
         "texttemplate": "%{text:.2f}",
         "type": "bar",
         "x": [
          "Abstract - ChatGPT",
          "Abstract - Bloomz",
          "Abstract and Wiki - Bloomz"
         ],
         "xaxis": "x8",
         "y": [
          0,
          0.439,
          0.548
         ],
         "yaxis": "y8"
        },
        {
         "alignmentgroup": "True",
         "cliponaxis": false,
         "hovertemplate": "Metric=F1-Score<br>Detector Type=Bloomz Detector<br>Evaluation Data=Wiki ChatGPT<br>Training Data=%{x}<br>score=%{text}<extra></extra>",
         "legendgroup": "F1-Score",
         "marker": {
          "color": "#F7C0BB",
          "pattern": {
           "shape": ""
          }
         },
         "name": "F1-Score",
         "offsetgroup": "F1-Score",
         "orientation": "v",
         "showlegend": false,
         "text": [
          0,
          0.9,
          0.996
         ],
         "textposition": "outside",
         "texttemplate": "%{text:.2f}",
         "type": "bar",
         "x": [
          "Abstract - ChatGPT",
          "Abstract - Bloomz",
          "Abstract and Wiki - Bloomz"
         ],
         "xaxis": "x",
         "y": [
          0,
          0.9,
          0.996
         ],
         "yaxis": "y"
        },
        {
         "alignmentgroup": "True",
         "cliponaxis": false,
         "hovertemplate": "Metric=F1-Score<br>Detector Type=Bloomz Detector<br>Evaluation Data=Wiki Bloomz<br>Training Data=%{x}<br>score=%{text}<extra></extra>",
         "legendgroup": "F1-Score",
         "marker": {
          "color": "#F7C0BB",
          "pattern": {
           "shape": ""
          }
         },
         "name": "F1-Score",
         "offsetgroup": "F1-Score",
         "orientation": "v",
         "showlegend": false,
         "text": [
          0.089,
          0.146,
          0.357
         ],
         "textposition": "outside",
         "texttemplate": "%{text:.2f}",
         "type": "bar",
         "x": [
          "Abstract - ChatGPT",
          "Abstract - Bloomz",
          "Abstract and Wiki - Bloomz"
         ],
         "xaxis": "x2",
         "y": [
          0.089,
          0.146,
          0.357
         ],
         "yaxis": "y2"
        },
        {
         "alignmentgroup": "True",
         "cliponaxis": false,
         "hovertemplate": "Metric=F1-Score<br>Detector Type=Bloomz Detector<br>Evaluation Data=Wiki Davinci<br>Training Data=%{x}<br>score=%{text}<extra></extra>",
         "legendgroup": "F1-Score",
         "marker": {
          "color": "#F7C0BB",
          "pattern": {
           "shape": ""
          }
         },
         "name": "F1-Score",
         "offsetgroup": "F1-Score",
         "orientation": "v",
         "showlegend": false,
         "text": [
          0.021,
          0.074,
          0.099
         ],
         "textposition": "outside",
         "texttemplate": "%{text:.2f}",
         "type": "bar",
         "x": [
          "Abstract - ChatGPT",
          "Abstract - Bloomz",
          "Abstract and Wiki - Bloomz"
         ],
         "xaxis": "x3",
         "y": [
          0.021,
          0.074,
          0.099
         ],
         "yaxis": "y3"
        },
        {
         "alignmentgroup": "True",
         "cliponaxis": false,
         "hovertemplate": "Metric=F1-Score<br>Detector Type=Bloomz Detector<br>Evaluation Data=Wiki Cohere<br>Training Data=%{x}<br>score=%{text}<extra></extra>",
         "legendgroup": "F1-Score",
         "marker": {
          "color": "#F7C0BB",
          "pattern": {
           "shape": ""
          }
         },
         "name": "F1-Score",
         "offsetgroup": "F1-Score",
         "orientation": "v",
         "showlegend": false,
         "text": [
          0.046,
          0.052,
          0.391
         ],
         "textposition": "outside",
         "texttemplate": "%{text:.2f}",
         "type": "bar",
         "x": [
          "Abstract - ChatGPT",
          "Abstract - Bloomz",
          "Abstract and Wiki - Bloomz"
         ],
         "xaxis": "x4",
         "y": [
          0.046,
          0.052,
          0.391
         ],
         "yaxis": "y4"
        }
       ],
       "layout": {
        "annotations": [
         {
          "font": {},
          "showarrow": false,
          "text": "Evaluation Data=Wiki ChatGPT",
          "x": 0.11499999999999999,
          "xanchor": "center",
          "xref": "paper",
          "y": 1,
          "yanchor": "bottom",
          "yref": "paper"
         },
         {
          "font": {},
          "showarrow": false,
          "text": "Evaluation Data=Wiki Bloomz",
          "x": 0.365,
          "xanchor": "center",
          "xref": "paper",
          "y": 1,
          "yanchor": "bottom",
          "yref": "paper"
         },
         {
          "font": {},
          "showarrow": false,
          "text": "Evaluation Data=Wiki Davinci",
          "x": 0.615,
          "xanchor": "center",
          "xref": "paper",
          "y": 1,
          "yanchor": "bottom",
          "yref": "paper"
         },
         {
          "font": {},
          "showarrow": false,
          "text": "Evaluation Data=Wiki Cohere",
          "x": 0.865,
          "xanchor": "center",
          "xref": "paper",
          "y": 1,
          "yanchor": "bottom",
          "yref": "paper"
         },
         {
          "font": {},
          "showarrow": false,
          "text": "Detector Type=Bloomz Detector",
          "textangle": 90,
          "x": 0.98,
          "xanchor": "left",
          "xref": "paper",
          "y": 0.2425,
          "yanchor": "middle",
          "yref": "paper"
         },
         {
          "font": {},
          "showarrow": false,
          "text": "Detector Type=XGBoost Detector",
          "textangle": 90,
          "x": 0.98,
          "xanchor": "left",
          "xref": "paper",
          "y": 0.7575000000000001,
          "yanchor": "middle",
          "yref": "paper"
         }
        ],
        "barmode": "group",
        "height": 600,
        "legend": {
         "title": {
          "text": "Metric"
         },
         "tracegroupgap": 0
        },
        "margin": {
         "t": 60
        },
        "template": {
         "data": {
          "bar": [
           {
            "error_x": {
             "color": "#2a3f5f"
            },
            "error_y": {
             "color": "#2a3f5f"
            },
            "marker": {
             "line": {
              "color": "#E5ECF6",
              "width": 0.5
             },
             "pattern": {
              "fillmode": "overlay",
              "size": 10,
              "solidity": 0.2
             }
            },
            "type": "bar"
           }
          ],
          "barpolar": [
           {
            "marker": {
             "line": {
              "color": "#E5ECF6",
              "width": 0.5
             },
             "pattern": {
              "fillmode": "overlay",
              "size": 10,
              "solidity": 0.2
             }
            },
            "type": "barpolar"
           }
          ],
          "carpet": [
           {
            "aaxis": {
             "endlinecolor": "#2a3f5f",
             "gridcolor": "white",
             "linecolor": "white",
             "minorgridcolor": "white",
             "startlinecolor": "#2a3f5f"
            },
            "baxis": {
             "endlinecolor": "#2a3f5f",
             "gridcolor": "white",
             "linecolor": "white",
             "minorgridcolor": "white",
             "startlinecolor": "#2a3f5f"
            },
            "type": "carpet"
           }
          ],
          "choropleth": [
           {
            "colorbar": {
             "outlinewidth": 0,
             "ticks": ""
            },
            "type": "choropleth"
           }
          ],
          "contour": [
           {
            "colorbar": {
             "outlinewidth": 0,
             "ticks": ""
            },
            "colorscale": [
             [
              0,
              "#0d0887"
             ],
             [
              0.1111111111111111,
              "#46039f"
             ],
             [
              0.2222222222222222,
              "#7201a8"
             ],
             [
              0.3333333333333333,
              "#9c179e"
             ],
             [
              0.4444444444444444,
              "#bd3786"
             ],
             [
              0.5555555555555556,
              "#d8576b"
             ],
             [
              0.6666666666666666,
              "#ed7953"
             ],
             [
              0.7777777777777778,
              "#fb9f3a"
             ],
             [
              0.8888888888888888,
              "#fdca26"
             ],
             [
              1,
              "#f0f921"
             ]
            ],
            "type": "contour"
           }
          ],
          "contourcarpet": [
           {
            "colorbar": {
             "outlinewidth": 0,
             "ticks": ""
            },
            "type": "contourcarpet"
           }
          ],
          "heatmap": [
           {
            "colorbar": {
             "outlinewidth": 0,
             "ticks": ""
            },
            "colorscale": [
             [
              0,
              "#0d0887"
             ],
             [
              0.1111111111111111,
              "#46039f"
             ],
             [
              0.2222222222222222,
              "#7201a8"
             ],
             [
              0.3333333333333333,
              "#9c179e"
             ],
             [
              0.4444444444444444,
              "#bd3786"
             ],
             [
              0.5555555555555556,
              "#d8576b"
             ],
             [
              0.6666666666666666,
              "#ed7953"
             ],
             [
              0.7777777777777778,
              "#fb9f3a"
             ],
             [
              0.8888888888888888,
              "#fdca26"
             ],
             [
              1,
              "#f0f921"
             ]
            ],
            "type": "heatmap"
           }
          ],
          "heatmapgl": [
           {
            "colorbar": {
             "outlinewidth": 0,
             "ticks": ""
            },
            "colorscale": [
             [
              0,
              "#0d0887"
             ],
             [
              0.1111111111111111,
              "#46039f"
             ],
             [
              0.2222222222222222,
              "#7201a8"
             ],
             [
              0.3333333333333333,
              "#9c179e"
             ],
             [
              0.4444444444444444,
              "#bd3786"
             ],
             [
              0.5555555555555556,
              "#d8576b"
             ],
             [
              0.6666666666666666,
              "#ed7953"
             ],
             [
              0.7777777777777778,
              "#fb9f3a"
             ],
             [
              0.8888888888888888,
              "#fdca26"
             ],
             [
              1,
              "#f0f921"
             ]
            ],
            "type": "heatmapgl"
           }
          ],
          "histogram": [
           {
            "marker": {
             "pattern": {
              "fillmode": "overlay",
              "size": 10,
              "solidity": 0.2
             }
            },
            "type": "histogram"
           }
          ],
          "histogram2d": [
           {
            "colorbar": {
             "outlinewidth": 0,
             "ticks": ""
            },
            "colorscale": [
             [
              0,
              "#0d0887"
             ],
             [
              0.1111111111111111,
              "#46039f"
             ],
             [
              0.2222222222222222,
              "#7201a8"
             ],
             [
              0.3333333333333333,
              "#9c179e"
             ],
             [
              0.4444444444444444,
              "#bd3786"
             ],
             [
              0.5555555555555556,
              "#d8576b"
             ],
             [
              0.6666666666666666,
              "#ed7953"
             ],
             [
              0.7777777777777778,
              "#fb9f3a"
             ],
             [
              0.8888888888888888,
              "#fdca26"
             ],
             [
              1,
              "#f0f921"
             ]
            ],
            "type": "histogram2d"
           }
          ],
          "histogram2dcontour": [
           {
            "colorbar": {
             "outlinewidth": 0,
             "ticks": ""
            },
            "colorscale": [
             [
              0,
              "#0d0887"
             ],
             [
              0.1111111111111111,
              "#46039f"
             ],
             [
              0.2222222222222222,
              "#7201a8"
             ],
             [
              0.3333333333333333,
              "#9c179e"
             ],
             [
              0.4444444444444444,
              "#bd3786"
             ],
             [
              0.5555555555555556,
              "#d8576b"
             ],
             [
              0.6666666666666666,
              "#ed7953"
             ],
             [
              0.7777777777777778,
              "#fb9f3a"
             ],
             [
              0.8888888888888888,
              "#fdca26"
             ],
             [
              1,
              "#f0f921"
             ]
            ],
            "type": "histogram2dcontour"
           }
          ],
          "mesh3d": [
           {
            "colorbar": {
             "outlinewidth": 0,
             "ticks": ""
            },
            "type": "mesh3d"
           }
          ],
          "parcoords": [
           {
            "line": {
             "colorbar": {
              "outlinewidth": 0,
              "ticks": ""
             }
            },
            "type": "parcoords"
           }
          ],
          "pie": [
           {
            "automargin": true,
            "type": "pie"
           }
          ],
          "scatter": [
           {
            "fillpattern": {
             "fillmode": "overlay",
             "size": 10,
             "solidity": 0.2
            },
            "type": "scatter"
           }
          ],
          "scatter3d": [
           {
            "line": {
             "colorbar": {
              "outlinewidth": 0,
              "ticks": ""
             }
            },
            "marker": {
             "colorbar": {
              "outlinewidth": 0,
              "ticks": ""
             }
            },
            "type": "scatter3d"
           }
          ],
          "scattercarpet": [
           {
            "marker": {
             "colorbar": {
              "outlinewidth": 0,
              "ticks": ""
             }
            },
            "type": "scattercarpet"
           }
          ],
          "scattergeo": [
           {
            "marker": {
             "colorbar": {
              "outlinewidth": 0,
              "ticks": ""
             }
            },
            "type": "scattergeo"
           }
          ],
          "scattergl": [
           {
            "marker": {
             "colorbar": {
              "outlinewidth": 0,
              "ticks": ""
             }
            },
            "type": "scattergl"
           }
          ],
          "scattermapbox": [
           {
            "marker": {
             "colorbar": {
              "outlinewidth": 0,
              "ticks": ""
             }
            },
            "type": "scattermapbox"
           }
          ],
          "scatterpolar": [
           {
            "marker": {
             "colorbar": {
              "outlinewidth": 0,
              "ticks": ""
             }
            },
            "type": "scatterpolar"
           }
          ],
          "scatterpolargl": [
           {
            "marker": {
             "colorbar": {
              "outlinewidth": 0,
              "ticks": ""
             }
            },
            "type": "scatterpolargl"
           }
          ],
          "scatterternary": [
           {
            "marker": {
             "colorbar": {
              "outlinewidth": 0,
              "ticks": ""
             }
            },
            "type": "scatterternary"
           }
          ],
          "surface": [
           {
            "colorbar": {
             "outlinewidth": 0,
             "ticks": ""
            },
            "colorscale": [
             [
              0,
              "#0d0887"
             ],
             [
              0.1111111111111111,
              "#46039f"
             ],
             [
              0.2222222222222222,
              "#7201a8"
             ],
             [
              0.3333333333333333,
              "#9c179e"
             ],
             [
              0.4444444444444444,
              "#bd3786"
             ],
             [
              0.5555555555555556,
              "#d8576b"
             ],
             [
              0.6666666666666666,
              "#ed7953"
             ],
             [
              0.7777777777777778,
              "#fb9f3a"
             ],
             [
              0.8888888888888888,
              "#fdca26"
             ],
             [
              1,
              "#f0f921"
             ]
            ],
            "type": "surface"
           }
          ],
          "table": [
           {
            "cells": {
             "fill": {
              "color": "#EBF0F8"
             },
             "line": {
              "color": "white"
             }
            },
            "header": {
             "fill": {
              "color": "#C8D4E3"
             },
             "line": {
              "color": "white"
             }
            },
            "type": "table"
           }
          ]
         },
         "layout": {
          "annotationdefaults": {
           "arrowcolor": "#2a3f5f",
           "arrowhead": 0,
           "arrowwidth": 1
          },
          "autotypenumbers": "strict",
          "coloraxis": {
           "colorbar": {
            "outlinewidth": 0,
            "ticks": ""
           }
          },
          "colorscale": {
           "diverging": [
            [
             0,
             "#8e0152"
            ],
            [
             0.1,
             "#c51b7d"
            ],
            [
             0.2,
             "#de77ae"
            ],
            [
             0.3,
             "#f1b6da"
            ],
            [
             0.4,
             "#fde0ef"
            ],
            [
             0.5,
             "#f7f7f7"
            ],
            [
             0.6,
             "#e6f5d0"
            ],
            [
             0.7,
             "#b8e186"
            ],
            [
             0.8,
             "#7fbc41"
            ],
            [
             0.9,
             "#4d9221"
            ],
            [
             1,
             "#276419"
            ]
           ],
           "sequential": [
            [
             0,
             "#0d0887"
            ],
            [
             0.1111111111111111,
             "#46039f"
            ],
            [
             0.2222222222222222,
             "#7201a8"
            ],
            [
             0.3333333333333333,
             "#9c179e"
            ],
            [
             0.4444444444444444,
             "#bd3786"
            ],
            [
             0.5555555555555556,
             "#d8576b"
            ],
            [
             0.6666666666666666,
             "#ed7953"
            ],
            [
             0.7777777777777778,
             "#fb9f3a"
            ],
            [
             0.8888888888888888,
             "#fdca26"
            ],
            [
             1,
             "#f0f921"
            ]
           ],
           "sequentialminus": [
            [
             0,
             "#0d0887"
            ],
            [
             0.1111111111111111,
             "#46039f"
            ],
            [
             0.2222222222222222,
             "#7201a8"
            ],
            [
             0.3333333333333333,
             "#9c179e"
            ],
            [
             0.4444444444444444,
             "#bd3786"
            ],
            [
             0.5555555555555556,
             "#d8576b"
            ],
            [
             0.6666666666666666,
             "#ed7953"
            ],
            [
             0.7777777777777778,
             "#fb9f3a"
            ],
            [
             0.8888888888888888,
             "#fdca26"
            ],
            [
             1,
             "#f0f921"
            ]
           ]
          },
          "colorway": [
           "#636efa",
           "#EF553B",
           "#00cc96",
           "#ab63fa",
           "#FFA15A",
           "#19d3f3",
           "#FF6692",
           "#B6E880",
           "#FF97FF",
           "#FECB52"
          ],
          "font": {
           "color": "#2a3f5f"
          },
          "geo": {
           "bgcolor": "white",
           "lakecolor": "white",
           "landcolor": "#E5ECF6",
           "showlakes": true,
           "showland": true,
           "subunitcolor": "white"
          },
          "hoverlabel": {
           "align": "left"
          },
          "hovermode": "closest",
          "mapbox": {
           "style": "light"
          },
          "paper_bgcolor": "white",
          "plot_bgcolor": "#E5ECF6",
          "polar": {
           "angularaxis": {
            "gridcolor": "white",
            "linecolor": "white",
            "ticks": ""
           },
           "bgcolor": "#E5ECF6",
           "radialaxis": {
            "gridcolor": "white",
            "linecolor": "white",
            "ticks": ""
           }
          },
          "scene": {
           "xaxis": {
            "backgroundcolor": "#E5ECF6",
            "gridcolor": "white",
            "gridwidth": 2,
            "linecolor": "white",
            "showbackground": true,
            "ticks": "",
            "zerolinecolor": "white"
           },
           "yaxis": {
            "backgroundcolor": "#E5ECF6",
            "gridcolor": "white",
            "gridwidth": 2,
            "linecolor": "white",
            "showbackground": true,
            "ticks": "",
            "zerolinecolor": "white"
           },
           "zaxis": {
            "backgroundcolor": "#E5ECF6",
            "gridcolor": "white",
            "gridwidth": 2,
            "linecolor": "white",
            "showbackground": true,
            "ticks": "",
            "zerolinecolor": "white"
           }
          },
          "shapedefaults": {
           "line": {
            "color": "#2a3f5f"
           }
          },
          "ternary": {
           "aaxis": {
            "gridcolor": "white",
            "linecolor": "white",
            "ticks": ""
           },
           "baxis": {
            "gridcolor": "white",
            "linecolor": "white",
            "ticks": ""
           },
           "bgcolor": "#E5ECF6",
           "caxis": {
            "gridcolor": "white",
            "linecolor": "white",
            "ticks": ""
           }
          },
          "title": {
           "x": 0.05
          },
          "xaxis": {
           "automargin": true,
           "gridcolor": "white",
           "linecolor": "white",
           "ticks": "",
           "title": {
            "standoff": 15
           },
           "zerolinecolor": "white",
           "zerolinewidth": 2
          },
          "yaxis": {
           "automargin": true,
           "gridcolor": "white",
           "linecolor": "white",
           "ticks": "",
           "title": {
            "standoff": 15
           },
           "zerolinecolor": "white",
           "zerolinewidth": 2
          }
         }
        },
        "width": 1000,
        "xaxis": {
         "anchor": "y",
         "categoryarray": [],
         "categoryorder": "array",
         "domain": [
          0,
          0.22999999999999998
         ],
         "title": {
          "text": "Training Data"
         }
        },
        "xaxis2": {
         "anchor": "y2",
         "categoryarray": [],
         "categoryorder": "array",
         "domain": [
          0.24999999999999997,
          0.48
         ],
         "title": {
          "text": "Training Data"
         }
        },
        "xaxis3": {
         "anchor": "y3",
         "categoryarray": [],
         "categoryorder": "array",
         "domain": [
          0.49999999999999994,
          0.73
         ],
         "title": {
          "text": "Training Data"
         }
        },
        "xaxis4": {
         "anchor": "y4",
         "categoryarray": [],
         "categoryorder": "array",
         "domain": [
          0.75,
          0.98
         ],
         "title": {
          "text": "Training Data"
         }
        },
        "xaxis5": {
         "anchor": "y5",
         "categoryarray": [],
         "categoryorder": "array",
         "domain": [
          0,
          0.22999999999999998
         ],
         "showticklabels": false
        },
        "xaxis6": {
         "anchor": "y6",
         "categoryarray": [],
         "categoryorder": "array",
         "domain": [
          0.24999999999999997,
          0.48
         ],
         "showticklabels": false
        },
        "xaxis7": {
         "anchor": "y7",
         "categoryarray": [],
         "categoryorder": "array",
         "domain": [
          0.49999999999999994,
          0.73
         ],
         "showticklabels": false
        },
        "xaxis8": {
         "anchor": "y8",
         "categoryarray": [],
         "categoryorder": "array",
         "domain": [
          0.75,
          0.98
         ],
         "showticklabels": false
        },
        "yaxis": {
         "anchor": "x",
         "domain": [
          0,
          0.485
         ],
         "title": {
          "text": "score"
         }
        },
        "yaxis2": {
         "anchor": "x2",
         "domain": [
          0,
          0.485
         ],
         "matches": "y",
         "showticklabels": false
        },
        "yaxis3": {
         "anchor": "x3",
         "domain": [
          0,
          0.485
         ],
         "matches": "y",
         "showticklabels": false
        },
        "yaxis4": {
         "anchor": "x4",
         "domain": [
          0,
          0.485
         ],
         "matches": "y",
         "showticklabels": false
        },
        "yaxis5": {
         "anchor": "x5",
         "domain": [
          0.515,
          1
         ],
         "matches": "y",
         "title": {
          "text": "score"
         }
        },
        "yaxis6": {
         "anchor": "x6",
         "domain": [
          0.515,
          1
         ],
         "matches": "y",
         "showticklabels": false
        },
        "yaxis7": {
         "anchor": "x7",
         "domain": [
          0.515,
          1
         ],
         "matches": "y",
         "showticklabels": false
        },
        "yaxis8": {
         "anchor": "x8",
         "domain": [
          0.515,
          1
         ],
         "matches": "y",
         "showticklabels": false
        }
       }
      }
     },
     "metadata": {},
     "output_type": "display_data"
    }
   ],
   "source": [
    "import plotly.express as px\n",
    "\n",
    "# Filter out NaN values from the relevant columns\n",
    "results_clean = results.dropna(subset=[\"score\", \"Training Data\", \"Metric\", \"Evaluation Data\", \"Detector Type\"])\n",
    "\n",
    "# Create the bar plot with increased figure size\n",
    "fig = px.bar(results_clean, \n",
    "             x=\"Training Data\", \n",
    "             y=\"score\", \n",
    "             color=\"Metric\", \n",
    "             barmode=\"group\",\n",
    "             facet_col=\"Evaluation Data\", \n",
    "             facet_row=\"Detector Type\",\n",
    "             height=600,  # Set the height of the figure\n",
    "             width=1000,\n",
    "             text=\"score\",\n",
    "             category_orders={\"Metric\": [\"Accuracy\", \"Precision\", \"Recall\", \"F1-Score\"]},\n",
    "             color_discrete_map={'Accuracy': '#7FD4C1', 'Precision': '#30BFDD', 'Recall': '#ACD0F4', 'F1-Score': '#F7C0BB'})  # Set the width of the figure\n",
    "\n",
    "# Format the bar plot for better readability\n",
    "fig.update_traces(texttemplate='%{text:.2f}', textposition='outside', cliponaxis=False)\n",
    "\n",
    "# Dynamically update x-ticks for each facet cell\n",
    "facet_cols = results_clean[\"Evaluation Data\"].unique()  # Unique facets in `facet_row`\n",
    "facet_rows = results_clean[\"Detector Type\"].unique()    # Unique facets in `facet_col`\n",
    "\n",
    "for row_idx, row_val in enumerate(facet_rows):\n",
    "    for col_idx, col_val in enumerate(facet_cols):\n",
    "        # Filter data for the specific facet cell\n",
    "        facet_data = results_clean[\n",
    "            (results_clean[\"Evaluation Data\"] == row_val) & \n",
    "            (results_clean[\"Detector Type\"] == col_val)\n",
    "        ]\n",
    "        # Get unique `Training Data` categories for this facet cell\n",
    "        visible_ticks = facet_data[\"Training Data\"].unique()\n",
    "\n",
    "        # Update x-axis for this facet cell\n",
    "        fig.update_xaxes(\n",
    "            categoryorder=\"array\",   # Reorder x-axis categories\n",
    "            categoryarray=visible_ticks,  # Only include categories with data\n",
    "            matches=None,  # Ensure axes adjustments are independent\n",
    "            row=row_idx + 1,  # Row index in Plotly is 1-based\n",
    "            col=col_idx + 1   # Column index in Plotly is 1-based\n",
    "        )\n",
    "\n",
    "# Show the plot\n",
    "fig.show()\n"
   ]
  },
  {
   "cell_type": "code",
   "execution_count": 21,
   "metadata": {},
   "outputs": [],
   "source": [
    "results = pd.concat([filtered_df_roberta])"
   ]
  },
  {
   "cell_type": "code",
   "execution_count": 24,
   "metadata": {},
   "outputs": [
    {
     "data": {
      "application/vnd.plotly.v1+json": {
       "config": {
        "plotlyServerURL": "https://plot.ly"
       },
       "data": [
        {
         "alignmentgroup": "True",
         "cliponaxis": false,
         "hovertemplate": "Metric=Precision<br>Detector Type=Roberta Detector<br>Evaluation Data=Wiki ChatGPT<br>Training Data=%{x}<br>score=%{text}<extra></extra>",
         "legendgroup": "Precision",
         "marker": {
          "color": "#30BFDD",
          "pattern": {
           "shape": ""
          }
         },
         "name": "Precision",
         "offsetgroup": "Precision",
         "orientation": "v",
         "showlegend": true,
         "text": [
          0.99,
          0.534
         ],
         "textposition": "outside",
         "texttemplate": "%{text:.2f}",
         "type": "bar",
         "x": [
          "Abstract - ChatGPT",
          "Abstract - Bloomz"
         ],
         "xaxis": "x",
         "y": [
          0.99,
          0.534
         ],
         "yaxis": "y"
        },
        {
         "alignmentgroup": "True",
         "cliponaxis": false,
         "hovertemplate": "Metric=Precision<br>Detector Type=Roberta Detector<br>Evaluation Data=Wiki Bloomz<br>Training Data=%{x}<br>score=%{text}<extra></extra>",
         "legendgroup": "Precision",
         "marker": {
          "color": "#30BFDD",
          "pattern": {
           "shape": ""
          }
         },
         "name": "Precision",
         "offsetgroup": "Precision",
         "orientation": "v",
         "showlegend": false,
         "text": [
          0.954,
          0.534
         ],
         "textposition": "outside",
         "texttemplate": "%{text:.2f}",
         "type": "bar",
         "x": [
          "Abstract - ChatGPT",
          "Abstract - Bloomz"
         ],
         "xaxis": "x2",
         "y": [
          0.954,
          0.534
         ],
         "yaxis": "y2"
        },
        {
         "alignmentgroup": "True",
         "cliponaxis": false,
         "hovertemplate": "Metric=Precision<br>Detector Type=Roberta Detector<br>Evaluation Data=Wiki Cohere<br>Training Data=%{x}<br>score=%{text}<extra></extra>",
         "legendgroup": "Precision",
         "marker": {
          "color": "#30BFDD",
          "pattern": {
           "shape": ""
          }
         },
         "name": "Precision",
         "offsetgroup": "Precision",
         "orientation": "v",
         "showlegend": false,
         "text": [
          0.99,
          0.513
         ],
         "textposition": "outside",
         "texttemplate": "%{text:.2f}",
         "type": "bar",
         "x": [
          "Abstract - ChatGPT",
          "Abstract - Bloomz"
         ],
         "xaxis": "x3",
         "y": [
          0.99,
          0.513
         ],
         "yaxis": "y3"
        },
        {
         "alignmentgroup": "True",
         "cliponaxis": false,
         "hovertemplate": "Metric=Recall<br>Detector Type=Roberta Detector<br>Evaluation Data=Wiki ChatGPT<br>Training Data=%{x}<br>score=%{text}<extra></extra>",
         "legendgroup": "Recall",
         "marker": {
          "color": "#ACD0F4",
          "pattern": {
           "shape": ""
          }
         },
         "name": "Recall",
         "offsetgroup": "Recall",
         "orientation": "v",
         "showlegend": true,
         "text": [
          0.97,
          0.996
         ],
         "textposition": "outside",
         "texttemplate": "%{text:.2f}",
         "type": "bar",
         "x": [
          "Abstract - ChatGPT",
          "Abstract - Bloomz"
         ],
         "xaxis": "x",
         "y": [
          0.97,
          0.996
         ],
         "yaxis": "y"
        },
        {
         "alignmentgroup": "True",
         "cliponaxis": false,
         "hovertemplate": "Metric=Recall<br>Detector Type=Roberta Detector<br>Evaluation Data=Wiki Bloomz<br>Training Data=%{x}<br>score=%{text}<extra></extra>",
         "legendgroup": "Recall",
         "marker": {
          "color": "#ACD0F4",
          "pattern": {
           "shape": ""
          }
         },
         "name": "Recall",
         "offsetgroup": "Recall",
         "orientation": "v",
         "showlegend": false,
         "text": [
          0.07,
          0.961
         ],
         "textposition": "outside",
         "texttemplate": "%{text:.2f}",
         "type": "bar",
         "x": [
          "Abstract - ChatGPT",
          "Abstract - Bloomz"
         ],
         "xaxis": "x2",
         "y": [
          0.07,
          0.961
         ],
         "yaxis": "y2"
        },
        {
         "alignmentgroup": "True",
         "cliponaxis": false,
         "hovertemplate": "Metric=Recall<br>Detector Type=Roberta Detector<br>Evaluation Data=Wiki Cohere<br>Training Data=%{x}<br>score=%{text}<extra></extra>",
         "legendgroup": "Recall",
         "marker": {
          "color": "#ACD0F4",
          "pattern": {
           "shape": ""
          }
         },
         "name": "Recall",
         "offsetgroup": "Recall",
         "orientation": "v",
         "showlegend": false,
         "text": [
          0.778,
          0.951
         ],
         "textposition": "outside",
         "texttemplate": "%{text:.2f}",
         "type": "bar",
         "x": [
          "Abstract - ChatGPT",
          "Abstract - Bloomz"
         ],
         "xaxis": "x3",
         "y": [
          0.778,
          0.951
         ],
         "yaxis": "y3"
        },
        {
         "alignmentgroup": "True",
         "cliponaxis": false,
         "hovertemplate": "Metric=F1-Score<br>Detector Type=Roberta Detector<br>Evaluation Data=Wiki ChatGPT<br>Training Data=%{x}<br>score=%{text}<extra></extra>",
         "legendgroup": "F1-Score",
         "marker": {
          "color": "#F7C0BB",
          "pattern": {
           "shape": ""
          }
         },
         "name": "F1-Score",
         "offsetgroup": "F1-Score",
         "orientation": "v",
         "showlegend": true,
         "text": [
          0.98,
          0.696
         ],
         "textposition": "outside",
         "texttemplate": "%{text:.2f}",
         "type": "bar",
         "x": [
          "Abstract - ChatGPT",
          "Abstract - Bloomz"
         ],
         "xaxis": "x",
         "y": [
          0.98,
          0.696
         ],
         "yaxis": "y"
        },
        {
         "alignmentgroup": "True",
         "cliponaxis": false,
         "hovertemplate": "Metric=F1-Score<br>Detector Type=Roberta Detector<br>Evaluation Data=Wiki Bloomz<br>Training Data=%{x}<br>score=%{text}<extra></extra>",
         "legendgroup": "F1-Score",
         "marker": {
          "color": "#F7C0BB",
          "pattern": {
           "shape": ""
          }
         },
         "name": "F1-Score",
         "offsetgroup": "F1-Score",
         "orientation": "v",
         "showlegend": false,
         "text": [
          0.13,
          0.686
         ],
         "textposition": "outside",
         "texttemplate": "%{text:.2f}",
         "type": "bar",
         "x": [
          "Abstract - ChatGPT",
          "Abstract - Bloomz"
         ],
         "xaxis": "x2",
         "y": [
          0.13,
          0.686
         ],
         "yaxis": "y2"
        },
        {
         "alignmentgroup": "True",
         "cliponaxis": false,
         "hovertemplate": "Metric=F1-Score<br>Detector Type=Roberta Detector<br>Evaluation Data=Wiki Cohere<br>Training Data=%{x}<br>score=%{text}<extra></extra>",
         "legendgroup": "F1-Score",
         "marker": {
          "color": "#F7C0BB",
          "pattern": {
           "shape": ""
          }
         },
         "name": "F1-Score",
         "offsetgroup": "F1-Score",
         "orientation": "v",
         "showlegend": false,
         "text": [
          0.778,
          0.667
         ],
         "textposition": "outside",
         "texttemplate": "%{text:.2f}",
         "type": "bar",
         "x": [
          "Abstract - ChatGPT",
          "Abstract - Bloomz"
         ],
         "xaxis": "x3",
         "y": [
          0.778,
          0.667
         ],
         "yaxis": "y3"
        }
       ],
       "layout": {
        "annotations": [
         {
          "font": {},
          "showarrow": false,
          "text": "Evaluation Data=Wiki ChatGPT",
          "x": 0.15666666666666665,
          "xanchor": "center",
          "xref": "paper",
          "y": 1,
          "yanchor": "bottom",
          "yref": "paper"
         },
         {
          "font": {},
          "showarrow": false,
          "text": "Evaluation Data=Wiki Bloomz",
          "x": 0.49,
          "xanchor": "center",
          "xref": "paper",
          "y": 1,
          "yanchor": "bottom",
          "yref": "paper"
         },
         {
          "font": {},
          "showarrow": false,
          "text": "Evaluation Data=Wiki Cohere",
          "x": 0.8233333333333333,
          "xanchor": "center",
          "xref": "paper",
          "y": 1,
          "yanchor": "bottom",
          "yref": "paper"
         },
         {
          "font": {},
          "showarrow": false,
          "text": "Detector Type=Roberta Detector",
          "textangle": 90,
          "x": 0.98,
          "xanchor": "left",
          "xref": "paper",
          "y": 0.5,
          "yanchor": "middle",
          "yref": "paper"
         }
        ],
        "barmode": "group",
        "height": 400,
        "legend": {
         "title": {
          "text": "Metric"
         },
         "tracegroupgap": 0
        },
        "margin": {
         "t": 60
        },
        "template": {
         "data": {
          "bar": [
           {
            "error_x": {
             "color": "#2a3f5f"
            },
            "error_y": {
             "color": "#2a3f5f"
            },
            "marker": {
             "line": {
              "color": "#E5ECF6",
              "width": 0.5
             },
             "pattern": {
              "fillmode": "overlay",
              "size": 10,
              "solidity": 0.2
             }
            },
            "type": "bar"
           }
          ],
          "barpolar": [
           {
            "marker": {
             "line": {
              "color": "#E5ECF6",
              "width": 0.5
             },
             "pattern": {
              "fillmode": "overlay",
              "size": 10,
              "solidity": 0.2
             }
            },
            "type": "barpolar"
           }
          ],
          "carpet": [
           {
            "aaxis": {
             "endlinecolor": "#2a3f5f",
             "gridcolor": "white",
             "linecolor": "white",
             "minorgridcolor": "white",
             "startlinecolor": "#2a3f5f"
            },
            "baxis": {
             "endlinecolor": "#2a3f5f",
             "gridcolor": "white",
             "linecolor": "white",
             "minorgridcolor": "white",
             "startlinecolor": "#2a3f5f"
            },
            "type": "carpet"
           }
          ],
          "choropleth": [
           {
            "colorbar": {
             "outlinewidth": 0,
             "ticks": ""
            },
            "type": "choropleth"
           }
          ],
          "contour": [
           {
            "colorbar": {
             "outlinewidth": 0,
             "ticks": ""
            },
            "colorscale": [
             [
              0,
              "#0d0887"
             ],
             [
              0.1111111111111111,
              "#46039f"
             ],
             [
              0.2222222222222222,
              "#7201a8"
             ],
             [
              0.3333333333333333,
              "#9c179e"
             ],
             [
              0.4444444444444444,
              "#bd3786"
             ],
             [
              0.5555555555555556,
              "#d8576b"
             ],
             [
              0.6666666666666666,
              "#ed7953"
             ],
             [
              0.7777777777777778,
              "#fb9f3a"
             ],
             [
              0.8888888888888888,
              "#fdca26"
             ],
             [
              1,
              "#f0f921"
             ]
            ],
            "type": "contour"
           }
          ],
          "contourcarpet": [
           {
            "colorbar": {
             "outlinewidth": 0,
             "ticks": ""
            },
            "type": "contourcarpet"
           }
          ],
          "heatmap": [
           {
            "colorbar": {
             "outlinewidth": 0,
             "ticks": ""
            },
            "colorscale": [
             [
              0,
              "#0d0887"
             ],
             [
              0.1111111111111111,
              "#46039f"
             ],
             [
              0.2222222222222222,
              "#7201a8"
             ],
             [
              0.3333333333333333,
              "#9c179e"
             ],
             [
              0.4444444444444444,
              "#bd3786"
             ],
             [
              0.5555555555555556,
              "#d8576b"
             ],
             [
              0.6666666666666666,
              "#ed7953"
             ],
             [
              0.7777777777777778,
              "#fb9f3a"
             ],
             [
              0.8888888888888888,
              "#fdca26"
             ],
             [
              1,
              "#f0f921"
             ]
            ],
            "type": "heatmap"
           }
          ],
          "heatmapgl": [
           {
            "colorbar": {
             "outlinewidth": 0,
             "ticks": ""
            },
            "colorscale": [
             [
              0,
              "#0d0887"
             ],
             [
              0.1111111111111111,
              "#46039f"
             ],
             [
              0.2222222222222222,
              "#7201a8"
             ],
             [
              0.3333333333333333,
              "#9c179e"
             ],
             [
              0.4444444444444444,
              "#bd3786"
             ],
             [
              0.5555555555555556,
              "#d8576b"
             ],
             [
              0.6666666666666666,
              "#ed7953"
             ],
             [
              0.7777777777777778,
              "#fb9f3a"
             ],
             [
              0.8888888888888888,
              "#fdca26"
             ],
             [
              1,
              "#f0f921"
             ]
            ],
            "type": "heatmapgl"
           }
          ],
          "histogram": [
           {
            "marker": {
             "pattern": {
              "fillmode": "overlay",
              "size": 10,
              "solidity": 0.2
             }
            },
            "type": "histogram"
           }
          ],
          "histogram2d": [
           {
            "colorbar": {
             "outlinewidth": 0,
             "ticks": ""
            },
            "colorscale": [
             [
              0,
              "#0d0887"
             ],
             [
              0.1111111111111111,
              "#46039f"
             ],
             [
              0.2222222222222222,
              "#7201a8"
             ],
             [
              0.3333333333333333,
              "#9c179e"
             ],
             [
              0.4444444444444444,
              "#bd3786"
             ],
             [
              0.5555555555555556,
              "#d8576b"
             ],
             [
              0.6666666666666666,
              "#ed7953"
             ],
             [
              0.7777777777777778,
              "#fb9f3a"
             ],
             [
              0.8888888888888888,
              "#fdca26"
             ],
             [
              1,
              "#f0f921"
             ]
            ],
            "type": "histogram2d"
           }
          ],
          "histogram2dcontour": [
           {
            "colorbar": {
             "outlinewidth": 0,
             "ticks": ""
            },
            "colorscale": [
             [
              0,
              "#0d0887"
             ],
             [
              0.1111111111111111,
              "#46039f"
             ],
             [
              0.2222222222222222,
              "#7201a8"
             ],
             [
              0.3333333333333333,
              "#9c179e"
             ],
             [
              0.4444444444444444,
              "#bd3786"
             ],
             [
              0.5555555555555556,
              "#d8576b"
             ],
             [
              0.6666666666666666,
              "#ed7953"
             ],
             [
              0.7777777777777778,
              "#fb9f3a"
             ],
             [
              0.8888888888888888,
              "#fdca26"
             ],
             [
              1,
              "#f0f921"
             ]
            ],
            "type": "histogram2dcontour"
           }
          ],
          "mesh3d": [
           {
            "colorbar": {
             "outlinewidth": 0,
             "ticks": ""
            },
            "type": "mesh3d"
           }
          ],
          "parcoords": [
           {
            "line": {
             "colorbar": {
              "outlinewidth": 0,
              "ticks": ""
             }
            },
            "type": "parcoords"
           }
          ],
          "pie": [
           {
            "automargin": true,
            "type": "pie"
           }
          ],
          "scatter": [
           {
            "fillpattern": {
             "fillmode": "overlay",
             "size": 10,
             "solidity": 0.2
            },
            "type": "scatter"
           }
          ],
          "scatter3d": [
           {
            "line": {
             "colorbar": {
              "outlinewidth": 0,
              "ticks": ""
             }
            },
            "marker": {
             "colorbar": {
              "outlinewidth": 0,
              "ticks": ""
             }
            },
            "type": "scatter3d"
           }
          ],
          "scattercarpet": [
           {
            "marker": {
             "colorbar": {
              "outlinewidth": 0,
              "ticks": ""
             }
            },
            "type": "scattercarpet"
           }
          ],
          "scattergeo": [
           {
            "marker": {
             "colorbar": {
              "outlinewidth": 0,
              "ticks": ""
             }
            },
            "type": "scattergeo"
           }
          ],
          "scattergl": [
           {
            "marker": {
             "colorbar": {
              "outlinewidth": 0,
              "ticks": ""
             }
            },
            "type": "scattergl"
           }
          ],
          "scattermapbox": [
           {
            "marker": {
             "colorbar": {
              "outlinewidth": 0,
              "ticks": ""
             }
            },
            "type": "scattermapbox"
           }
          ],
          "scatterpolar": [
           {
            "marker": {
             "colorbar": {
              "outlinewidth": 0,
              "ticks": ""
             }
            },
            "type": "scatterpolar"
           }
          ],
          "scatterpolargl": [
           {
            "marker": {
             "colorbar": {
              "outlinewidth": 0,
              "ticks": ""
             }
            },
            "type": "scatterpolargl"
           }
          ],
          "scatterternary": [
           {
            "marker": {
             "colorbar": {
              "outlinewidth": 0,
              "ticks": ""
             }
            },
            "type": "scatterternary"
           }
          ],
          "surface": [
           {
            "colorbar": {
             "outlinewidth": 0,
             "ticks": ""
            },
            "colorscale": [
             [
              0,
              "#0d0887"
             ],
             [
              0.1111111111111111,
              "#46039f"
             ],
             [
              0.2222222222222222,
              "#7201a8"
             ],
             [
              0.3333333333333333,
              "#9c179e"
             ],
             [
              0.4444444444444444,
              "#bd3786"
             ],
             [
              0.5555555555555556,
              "#d8576b"
             ],
             [
              0.6666666666666666,
              "#ed7953"
             ],
             [
              0.7777777777777778,
              "#fb9f3a"
             ],
             [
              0.8888888888888888,
              "#fdca26"
             ],
             [
              1,
              "#f0f921"
             ]
            ],
            "type": "surface"
           }
          ],
          "table": [
           {
            "cells": {
             "fill": {
              "color": "#EBF0F8"
             },
             "line": {
              "color": "white"
             }
            },
            "header": {
             "fill": {
              "color": "#C8D4E3"
             },
             "line": {
              "color": "white"
             }
            },
            "type": "table"
           }
          ]
         },
         "layout": {
          "annotationdefaults": {
           "arrowcolor": "#2a3f5f",
           "arrowhead": 0,
           "arrowwidth": 1
          },
          "autotypenumbers": "strict",
          "coloraxis": {
           "colorbar": {
            "outlinewidth": 0,
            "ticks": ""
           }
          },
          "colorscale": {
           "diverging": [
            [
             0,
             "#8e0152"
            ],
            [
             0.1,
             "#c51b7d"
            ],
            [
             0.2,
             "#de77ae"
            ],
            [
             0.3,
             "#f1b6da"
            ],
            [
             0.4,
             "#fde0ef"
            ],
            [
             0.5,
             "#f7f7f7"
            ],
            [
             0.6,
             "#e6f5d0"
            ],
            [
             0.7,
             "#b8e186"
            ],
            [
             0.8,
             "#7fbc41"
            ],
            [
             0.9,
             "#4d9221"
            ],
            [
             1,
             "#276419"
            ]
           ],
           "sequential": [
            [
             0,
             "#0d0887"
            ],
            [
             0.1111111111111111,
             "#46039f"
            ],
            [
             0.2222222222222222,
             "#7201a8"
            ],
            [
             0.3333333333333333,
             "#9c179e"
            ],
            [
             0.4444444444444444,
             "#bd3786"
            ],
            [
             0.5555555555555556,
             "#d8576b"
            ],
            [
             0.6666666666666666,
             "#ed7953"
            ],
            [
             0.7777777777777778,
             "#fb9f3a"
            ],
            [
             0.8888888888888888,
             "#fdca26"
            ],
            [
             1,
             "#f0f921"
            ]
           ],
           "sequentialminus": [
            [
             0,
             "#0d0887"
            ],
            [
             0.1111111111111111,
             "#46039f"
            ],
            [
             0.2222222222222222,
             "#7201a8"
            ],
            [
             0.3333333333333333,
             "#9c179e"
            ],
            [
             0.4444444444444444,
             "#bd3786"
            ],
            [
             0.5555555555555556,
             "#d8576b"
            ],
            [
             0.6666666666666666,
             "#ed7953"
            ],
            [
             0.7777777777777778,
             "#fb9f3a"
            ],
            [
             0.8888888888888888,
             "#fdca26"
            ],
            [
             1,
             "#f0f921"
            ]
           ]
          },
          "colorway": [
           "#636efa",
           "#EF553B",
           "#00cc96",
           "#ab63fa",
           "#FFA15A",
           "#19d3f3",
           "#FF6692",
           "#B6E880",
           "#FF97FF",
           "#FECB52"
          ],
          "font": {
           "color": "#2a3f5f"
          },
          "geo": {
           "bgcolor": "white",
           "lakecolor": "white",
           "landcolor": "#E5ECF6",
           "showlakes": true,
           "showland": true,
           "subunitcolor": "white"
          },
          "hoverlabel": {
           "align": "left"
          },
          "hovermode": "closest",
          "mapbox": {
           "style": "light"
          },
          "paper_bgcolor": "white",
          "plot_bgcolor": "#E5ECF6",
          "polar": {
           "angularaxis": {
            "gridcolor": "white",
            "linecolor": "white",
            "ticks": ""
           },
           "bgcolor": "#E5ECF6",
           "radialaxis": {
            "gridcolor": "white",
            "linecolor": "white",
            "ticks": ""
           }
          },
          "scene": {
           "xaxis": {
            "backgroundcolor": "#E5ECF6",
            "gridcolor": "white",
            "gridwidth": 2,
            "linecolor": "white",
            "showbackground": true,
            "ticks": "",
            "zerolinecolor": "white"
           },
           "yaxis": {
            "backgroundcolor": "#E5ECF6",
            "gridcolor": "white",
            "gridwidth": 2,
            "linecolor": "white",
            "showbackground": true,
            "ticks": "",
            "zerolinecolor": "white"
           },
           "zaxis": {
            "backgroundcolor": "#E5ECF6",
            "gridcolor": "white",
            "gridwidth": 2,
            "linecolor": "white",
            "showbackground": true,
            "ticks": "",
            "zerolinecolor": "white"
           }
          },
          "shapedefaults": {
           "line": {
            "color": "#2a3f5f"
           }
          },
          "ternary": {
           "aaxis": {
            "gridcolor": "white",
            "linecolor": "white",
            "ticks": ""
           },
           "baxis": {
            "gridcolor": "white",
            "linecolor": "white",
            "ticks": ""
           },
           "bgcolor": "#E5ECF6",
           "caxis": {
            "gridcolor": "white",
            "linecolor": "white",
            "ticks": ""
           }
          },
          "title": {
           "x": 0.05
          },
          "xaxis": {
           "automargin": true,
           "gridcolor": "white",
           "linecolor": "white",
           "ticks": "",
           "title": {
            "standoff": 15
           },
           "zerolinecolor": "white",
           "zerolinewidth": 2
          },
          "yaxis": {
           "automargin": true,
           "gridcolor": "white",
           "linecolor": "white",
           "ticks": "",
           "title": {
            "standoff": 15
           },
           "zerolinecolor": "white",
           "zerolinewidth": 2
          }
         }
        },
        "width": 1000,
        "xaxis": {
         "anchor": "y",
         "categoryarray": [],
         "categoryorder": "array",
         "domain": [
          0,
          0.3133333333333333
         ],
         "title": {
          "text": "Training Data"
         }
        },
        "xaxis2": {
         "anchor": "y2",
         "categoryarray": [],
         "categoryorder": "array",
         "domain": [
          0.3333333333333333,
          0.6466666666666666
         ],
         "title": {
          "text": "Training Data"
         }
        },
        "xaxis3": {
         "anchor": "y3",
         "categoryarray": [],
         "categoryorder": "array",
         "domain": [
          0.6666666666666666,
          0.98
         ],
         "title": {
          "text": "Training Data"
         }
        },
        "yaxis": {
         "anchor": "x",
         "domain": [
          0,
          1
         ],
         "title": {
          "text": "score"
         }
        },
        "yaxis2": {
         "anchor": "x2",
         "domain": [
          0,
          1
         ],
         "matches": "y",
         "showticklabels": false
        },
        "yaxis3": {
         "anchor": "x3",
         "domain": [
          0,
          1
         ],
         "matches": "y",
         "showticklabels": false
        }
       }
      }
     },
     "metadata": {},
     "output_type": "display_data"
    }
   ],
   "source": [
    "import plotly.express as px\n",
    "\n",
    "# Filter out NaN values from the relevant columns\n",
    "results_clean = results.dropna(subset=[\"score\", \"Training Data\", \"Metric\", \"Evaluation Data\", \"Detector Type\"])\n",
    "\n",
    "# Create the bar plot with increased figure size\n",
    "fig = px.bar(results_clean, \n",
    "             x=\"Training Data\", \n",
    "             y=\"score\", \n",
    "             color=\"Metric\", \n",
    "             barmode=\"group\",\n",
    "             facet_col=\"Evaluation Data\", \n",
    "             facet_row=\"Detector Type\",\n",
    "             height=400,  # Set the height of the figure\n",
    "             width=1000,\n",
    "             text=\"score\",\n",
    "             category_orders={\"Metric\": [\"Accuracy\", \"Precision\", \"Recall\", \"F1-Score\"]},\n",
    "             color_discrete_map={'Accuracy': '#7FD4C1', 'Precision': '#30BFDD', 'Recall': '#ACD0F4', 'F1-Score': '#F7C0BB'})  # Set the width of the figure\n",
    "\n",
    "# Format the bar plot for better readability\n",
    "fig.update_traces(texttemplate='%{text:.2f}', textposition='outside', cliponaxis=False)\n",
    "\n",
    "# Dynamically update x-ticks for each facet cell\n",
    "facet_cols = results_clean[\"Evaluation Data\"].unique()  # Unique facets in `facet_row`\n",
    "facet_rows = results_clean[\"Detector Type\"].unique()    # Unique facets in `facet_col`\n",
    "\n",
    "for row_idx, row_val in enumerate(facet_rows):\n",
    "    for col_idx, col_val in enumerate(facet_cols):\n",
    "        # Filter data for the specific facet cell\n",
    "        facet_data = results_clean[\n",
    "            (results_clean[\"Evaluation Data\"] == row_val) & \n",
    "            (results_clean[\"Detector Type\"] == col_val)\n",
    "        ]\n",
    "        # Get unique `Training Data` categories for this facet cell\n",
    "        visible_ticks = facet_data[\"Training Data\"].unique()\n",
    "\n",
    "        # Update x-axis for this facet cell\n",
    "        fig.update_xaxes(\n",
    "            categoryorder=\"array\",   # Reorder x-axis categories\n",
    "            categoryarray=visible_ticks,  # Only include categories with data\n",
    "            matches=None,  # Ensure axes adjustments are independent\n",
    "            row=row_idx + 1,  # Row index in Plotly is 1-based\n",
    "            col=col_idx + 1   # Column index in Plotly is 1-based\n",
    "        )\n",
    "\n",
    "# Show the plot\n",
    "fig.show()\n"
   ]
  }
 ],
 "metadata": {
  "kernelspec": {
   "display_name": "Python 3",
   "language": "python",
   "name": "python3"
  },
  "language_info": {
   "codemirror_mode": {
    "name": "ipython",
    "version": 3
   },
   "file_extension": ".py",
   "mimetype": "text/x-python",
   "name": "python",
   "nbconvert_exporter": "python",
   "pygments_lexer": "ipython3",
   "version": "3.10.8"
  },
  "orig_nbformat": 4
 },
 "nbformat": 4,
 "nbformat_minor": 2
}
