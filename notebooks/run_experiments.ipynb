{
  "cells": [
    {
      "cell_type": "markdown",
      "metadata": {
        "id": "view-in-github",
        "colab_type": "text"
      },
      "source": [
        "<a href=\"https://colab.research.google.com/github/SupriyaUpadhyaya/ai-generated-text-detector/blob/main/notebooks/run_experiments.ipynb\" target=\"_parent\"><img src=\"https://colab.research.google.com/assets/colab-badge.svg\" alt=\"Open In Colab\"/></a>"
      ]
    },
    {
      "cell_type": "code",
      "execution_count": null,
      "metadata": {
        "id": "Lq6EbLuVZHso"
      },
      "outputs": [],
      "source": [
        "!pip install transformers datasets huggingface_hub tensorboard==2.11\n",
        "!sudo apt-get install git-lfs --yes\n",
        "! pip install transformers[torch] -U\n",
        "! pip install accelerate -U\n",
        "!pip install textattack\n",
        "!pip install PyYAML"
      ]
    },
    {
      "cell_type": "code",
      "source": [
        "from google.colab import drive\n",
        "drive.mount('/content/drive')"
      ],
      "metadata": {
        "id": "-34MS5_GZPTM",
        "outputId": "1ec11a63-43d9-42ef-bb80-2ec11bfeceef",
        "colab": {
          "base_uri": "https://localhost:8080/"
        }
      },
      "execution_count": 1,
      "outputs": [
        {
          "output_type": "stream",
          "name": "stdout",
          "text": [
            "Mounted at /content/drive\n"
          ]
        }
      ]
    },
    {
      "cell_type": "code",
      "source": [
        "%cd /content/drive/MyDrive\n",
        "!git clone https://github.com/SupriyaUpadhyaya/ai-generated-text-detector.git\n",
        "%cd /content/drive/MyDrive/ai-generated-text-detector\n",
        "!git pull"
      ],
      "metadata": {
        "id": "ohK1LgntZ9MT",
        "outputId": "f4512f71-d7c1-4411-a0ce-74b963fe4e92",
        "colab": {
          "base_uri": "https://localhost:8080/"
        }
      },
      "execution_count": 6,
      "outputs": [
        {
          "output_type": "stream",
          "name": "stdout",
          "text": [
            "/content/drive/MyDrive\n",
            "fatal: destination path 'ai-generated-text-detector' already exists and is not an empty directory.\n",
            "/content/drive/MyDrive/ai-generated-text-detector\n",
            "Already up to date.\n"
          ]
        }
      ]
    },
    {
      "cell_type": "code",
      "source": [
        "!python3 main.py --modelType roberta --train true --trainData chatgpt --dataType abstract --newLine without"
      ],
      "metadata": {
        "id": "PfFiWDK0aMzS"
      },
      "execution_count": null,
      "outputs": []
    }
  ],
  "metadata": {
    "language_info": {
      "name": "python"
    },
    "orig_nbformat": 4,
    "colab": {
      "provenance": [],
      "include_colab_link": true
    },
    "kernelspec": {
      "name": "python3",
      "display_name": "Python 3"
    }
  },
  "nbformat": 4,
  "nbformat_minor": 0
}